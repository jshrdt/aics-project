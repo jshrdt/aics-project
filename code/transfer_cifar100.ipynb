{
 "cells": [
  {
   "cell_type": "markdown",
   "metadata": {},
   "source": [
    "# CIFAR100 transfer\n",
    "Exploring applicability of models trained on CIFAKE for 'real' images"
   ]
  },
  {
   "cell_type": "code",
   "execution_count": 1,
   "metadata": {},
   "outputs": [
    {
     "name": "stderr",
     "output_type": "stream",
     "text": [
      "/Library/Frameworks/Python.framework/Versions/3.10/lib/python3.10/site-packages/torchvision/io/image.py:13: UserWarning: Failed to load image Python extension: 'dlopen(/Library/Frameworks/Python.framework/Versions/3.10/lib/python3.10/site-packages/torchvision/image.so, 0x0006): Symbol not found: __ZN3c1017RegisterOperatorsD1Ev\n",
      "  Referenced from: <EA7F9DF5-8854-31D8-89D4-BD566CAF4DEA> /Library/Frameworks/Python.framework/Versions/3.10/lib/python3.10/site-packages/torchvision/image.so\n",
      "  Expected in:     <03BFC270-EF54-36FC-B102-371F5164D3C9> /Library/Frameworks/Python.framework/Versions/3.10/lib/python3.10/site-packages/torch/lib/libtorch_cpu.dylib'If you don't plan on using image functionality from `torchvision.io`, you can ignore this warning. Otherwise, there might be something wrong with your environment. Did you have `libjpeg` or `libpng` installed before building `torchvision` from source?\n",
      "  warn(\n"
     ]
    }
   ],
   "source": [
    "import torch\n",
    "import numpy as np\n",
    "import json \n",
    "\n",
    "from classes import CI_LOADER, CIFAKE_CNN\n",
    "from test import test_model, test_thresh_size, visualise, score_content_preds\n",
    "\n",
    "with open('./config.json') as f:\n",
    "    config = json.load(f)"
   ]
  },
  {
   "cell_type": "code",
   "execution_count": 2,
   "metadata": {},
   "outputs": [],
   "source": [
    "def find_extrema(df):\n",
    "    return df.loc[[df.idxmax()[0]]], df.loc[[df.idxmin()[0]]]"
   ]
  },
  {
   "cell_type": "markdown",
   "metadata": {},
   "source": [
    "### Data loading"
   ]
  },
  {
   "cell_type": "code",
   "execution_count": 3,
   "metadata": {},
   "outputs": [],
   "source": [
    "# The CIFAR-100 dataset consists of 60000 32x32 colour images in 100 classes,\n",
    "# with 600 images per class. The 100 classes in the CIFAR-100 are grouped\n",
    "# into 20 superclasses. Each image comes with a \"fine\" label (the class to\n",
    "# which it belongs) and a \"coarse\" label (the superclass to which it belongs).\n",
    "# There are 50000 training images and 10000 test images.\n",
    "# The meta file contains the label names of each class and superclass.\n",
    "\n",
    "# #https://www.kaggle.com/datasets/fedesoriano/cifar100?resource=download"
   ]
  },
  {
   "cell_type": "code",
   "execution_count": 4,
   "metadata": {},
   "outputs": [],
   "source": [
    "# classes = \"beaver\", \"dolphin\", \"otter\", \"seal\", \"whale\",\n",
    "# \"aquarium\", \"fish\", \"flatfish\", \"ray\", \"shark\", \"trout\"\n",
    "# 11-15) orchids, poppies, roses, sunflowers, tulips\n",
    "# 16-20) bottles, bowls, cans, cups, plates\n",
    "# 21-25) apples, mushrooms, oranges, pears, sweet peppers\n",
    "# 26-30) clock, computer keyboard, lamp, telephone, television\n",
    "# 31-35) bed, chair, couch, table, wardrobe\n",
    "# 36-40) bee, beetle, butterfly, caterpillar, cockroach\n",
    "# 41-45) bear, leopard, lion, tiger, wolf\n",
    "# 46-50) bridge, castle, house, road, skyscraper\n",
    "# 51-55) cloud, forest, mountain, plain, sea\n",
    "# 56-60) camel, cattle, chimpanzee, elephant, kangaroo\n",
    "# 61-65) fox, porcupine, possum, raccoon, skunk\n",
    "# 66-70) crab, lobster, snail, spider, worm\n",
    "# 71-75) baby, boy, girl, man, woman\n",
    "# 76-80) crocodile, dinosaur, lizard, snake, turtle\n",
    "# 81-85) hamster, mouse, rabbit, shrew, squirrel\n",
    "# 86-90) maple, oak, palm, pine, willow\n",
    "# 91-95) bicycle, bus, motorcycle, pickup truck, train\n",
    "# 96-100) lawn-mower, rocket, streetcar, tank, tractor"
   ]
  },
  {
   "cell_type": "code",
   "execution_count": 5,
   "metadata": {},
   "outputs": [],
   "source": [
    "def unpickle_cifar100(file):\n",
    "    import pickle\n",
    "    with open(file, 'rb') as fo:\n",
    "        dict = pickle.load(fo, encoding='bytes')\n",
    "    return dict\n",
    "\n",
    "metadata_path = '../data/CIFAR100/meta' # change this path`\\\n",
    "metadata = unpickle_cifar100(metadata_path)\n",
    "superclass_dict = dict(list(enumerate(metadata[b'coarse_label_names'])))\n",
    "class_dict = dict(list(enumerate(metadata[b'fine_label_names'])))\n"
   ]
  },
  {
   "cell_type": "code",
   "execution_count": 6,
   "metadata": {},
   "outputs": [
    {
     "data": {
      "text/plain": [
       "10000"
      ]
     },
     "execution_count": 6,
     "metadata": {},
     "output_type": "execute_result"
    }
   ],
   "source": [
    "# loading from kaggel datacard https://www.kaggle.com/datasets/fedesoriano/cifar100/data\n",
    "data_pre_path = '../data/CIFAR100/' # change this path\n",
    "# File paths\n",
    "# data_train_path = data_pre_path + 'train'\n",
    "data_test_path = data_pre_path + 'test'\n",
    "# Read dictionary\n",
    "# data_train_dict = unpickle_cifar100(data_train_path)\n",
    "data_test_dict = unpickle_cifar100(data_test_path)\n",
    "# Get data (change the coarse_labels if you want to use the 100 classes)\n",
    "# data_train = data_train_dict[b'data']\n",
    "# label_train = np.array(np.array([data_train_dict[b'coarse_labels'], data_train_dict[b'fine_labels']]))\n",
    "\n",
    "\n",
    "data_test = data_test_dict[b'data']\n",
    "label_test = np.array(data_test_dict[b'coarse_labels'])\n",
    "label_test_fine = np.array(data_test_dict[b'fine_labels'])\n",
    "\n",
    "len(data_test)"
   ]
  },
  {
   "cell_type": "code",
   "execution_count": 7,
   "metadata": {},
   "outputs": [
    {
     "data": {
      "text/plain": [
       "<matplotlib.image.AxesImage at 0x30cf8bfd0>"
      ]
     },
     "execution_count": 7,
     "metadata": {},
     "output_type": "execute_result"
    },
    {
     "data": {
      "image/png": "[encoded data removed]",
      "text/plain": [
       "<Figure size 640x480 with 1 Axes>"
      ]
     },
     "metadata": {},
     "output_type": "display_data"
    }
   ],
   "source": [
    "import matplotlib.pyplot as plt\n",
    "plt.imshow((data_test[0]/255).reshape(3,32,32).transpose(1,2,0))"
   ]
  },
  {
   "cell_type": "code",
   "execution_count": 8,
   "metadata": {},
   "outputs": [
    {
     "data": {
      "text/plain": [
       "{0: b'aquatic_mammals',\n",
       " 1: b'fish',\n",
       " 2: b'flowers',\n",
       " 3: b'food_containers',\n",
       " 4: b'fruit_and_vegetables',\n",
       " 5: b'household_electrical_devices',\n",
       " 6: b'household_furniture',\n",
       " 7: b'insects',\n",
       " 8: b'large_carnivores',\n",
       " 9: b'large_man-made_outdoor_things',\n",
       " 10: b'large_natural_outdoor_scenes',\n",
       " 11: b'large_omnivores_and_herbivores',\n",
       " 12: b'medium_mammals',\n",
       " 13: b'non-insect_invertebrates',\n",
       " 14: b'people',\n",
       " 15: b'reptiles',\n",
       " 16: b'small_mammals',\n",
       " 17: b'trees',\n",
       " 18: b'vehicles_1',\n",
       " 19: b'vehicles_2'}"
      ]
     },
     "execution_count": 8,
     "metadata": {},
     "output_type": "execute_result"
    }
   ],
   "source": [
    "superclass_dict"
   ]
  },
  {
   "cell_type": "code",
   "execution_count": 9,
   "metadata": {},
   "outputs": [],
   "source": [
    "## cf cifar10\n",
    "# classes = ('plane', 'car', 'bird', 'cat',\n",
    "#            'deer', 'dog', 'frog', 'horse', 'ship', 'truck')"
   ]
  },
  {
   "cell_type": "code",
   "execution_count": 10,
   "metadata": {},
   "outputs": [],
   "source": [
    "# from classes import CIFAKE_loader\n",
    "testdata = CI_LOADER(list(zip(data_test, label_test)), source='CIFAR100')\n",
    "testdata_fine = CI_LOADER(list(zip(data_test, label_test_fine)), source='CIFAR100')"
   ]
  },
  {
   "cell_type": "markdown",
   "metadata": {},
   "source": [
    "### Testing base model"
   ]
  },
  {
   "cell_type": "code",
   "execution_count": 11,
   "metadata": {},
   "outputs": [
    {
     "data": {
      "text/plain": [
       "<All keys matched successfully>"
      ]
     },
     "execution_count": 11,
     "metadata": {},
     "output_type": "execute_result"
    }
   ],
   "source": [
    "# load model, test on test set\n",
    "model = CIFAKE_CNN()\n",
    "model.load_state_dict(torch.load(config['base_model']))"
   ]
  },
  {
   "cell_type": "code",
   "execution_count": 12,
   "metadata": {},
   "outputs": [
    {
     "data": {
      "text/plain": [
       "313"
      ]
     },
     "execution_count": 12,
     "metadata": {},
     "output_type": "execute_result"
    }
   ],
   "source": [
    "len(testdata.batches)"
   ]
  },
  {
   "cell_type": "code",
   "execution_count": 13,
   "metadata": {},
   "outputs": [
    {
     "data": {
      "application/json": {
       "ascii": false,
       "bar_format": null,
       "colour": null,
       "elapsed": 0.008800983428955078,
       "initial": 0,
       "n": 0,
       "ncols": null,
       "nrows": null,
       "postfix": null,
       "prefix": "",
       "rate": null,
       "total": 313,
       "unit": "it",
       "unit_divisor": 1000,
       "unit_scale": false
      },
      "application/vnd.jupyter.widget-view+json": {
       "model_id": "493cf43dc7a3493d80f2fea20ce98fb7",
       "version_major": 2,
       "version_minor": 0
      },
      "text/plain": [
       "  0%|          | 0/313 [00:00<?, ?it/s]"
      ]
     },
     "metadata": {},
     "output_type": "display_data"
    },
    {
     "name": "stdout",
     "output_type": "stream",
     "text": [
      "\n",
      "Performance (n=10000 test imgs, decision threshold=0.5)\n",
      "Overall accuracy: 92.91%\n",
      "\n",
      "                                   recall\n",
      "b'aquatic_mammals'                  0.952\n",
      "b'fish'                             0.962\n",
      "b'flowers'                          0.882\n",
      "b'food_containers'                  0.940\n",
      "b'fruit_and_vegetables'             0.900\n",
      "b'household_electrical_devices'     0.882\n",
      "b'household_furniture'              0.950\n",
      "b'insects'                          0.896\n",
      "b'large_carnivores'                 0.928\n",
      "b'large_man-made_outdoor_things'    0.948\n",
      "b'large_natural_outdoor_scenes'     0.910\n",
      "b'large_omnivores_and_herbivores'   0.956\n",
      "b'medium_mammals'                   0.948\n",
      "b'non-insect_invertebrates'         0.918\n",
      "b'people'                           0.894\n",
      "b'reptiles'                         0.934\n",
      "b'small_mammals'                    0.950\n",
      "b'trees'                            0.968\n",
      "b'vehicles_1'                       0.920\n",
      "b'vehicles_2'                       0.944\n"
     ]
    }
   ],
   "source": [
    "gold, preds = test_model(model, testdata)\n",
    "acc, eval = score_content_preds(gold, preds, superclass_dict)"
   ]
  },
  {
   "cell_type": "code",
   "execution_count": 14,
   "metadata": {},
   "outputs": [
    {
     "data": {
      "text/html": [
       "<div>\n",
       "<style scoped>\n",
       "    .dataframe tbody tr th:only-of-type {\n",
       "        vertical-align: middle;\n",
       "    }\n",
       "\n",
       "    .dataframe tbody tr th {\n",
       "        vertical-align: top;\n",
       "    }\n",
       "\n",
       "    .dataframe thead th {\n",
       "        text-align: right;\n",
       "    }\n",
       "</style>\n",
       "<table border=\"1\" class=\"dataframe\">\n",
       "  <thead>\n",
       "    <tr style=\"text-align: right;\">\n",
       "      <th></th>\n",
       "      <th>recall</th>\n",
       "    </tr>\n",
       "  </thead>\n",
       "  <tbody>\n",
       "    <tr>\n",
       "      <th>count</th>\n",
       "      <td>20.000000</td>\n",
       "    </tr>\n",
       "    <tr>\n",
       "      <th>mean</th>\n",
       "      <td>0.929100</td>\n",
       "    </tr>\n",
       "    <tr>\n",
       "      <th>std</th>\n",
       "      <td>0.027125</td>\n",
       "    </tr>\n",
       "    <tr>\n",
       "      <th>min</th>\n",
       "      <td>0.882000</td>\n",
       "    </tr>\n",
       "    <tr>\n",
       "      <th>25%</th>\n",
       "      <td>0.907500</td>\n",
       "    </tr>\n",
       "    <tr>\n",
       "      <th>50%</th>\n",
       "      <td>0.937000</td>\n",
       "    </tr>\n",
       "    <tr>\n",
       "      <th>75%</th>\n",
       "      <td>0.950000</td>\n",
       "    </tr>\n",
       "    <tr>\n",
       "      <th>max</th>\n",
       "      <td>0.968000</td>\n",
       "    </tr>\n",
       "  </tbody>\n",
       "</table>\n",
       "</div>"
      ],
      "text/plain": [
       "          recall\n",
       "count  20.000000\n",
       "mean    0.929100\n",
       "std     0.027125\n",
       "min     0.882000\n",
       "25%     0.907500\n",
       "50%     0.937000\n",
       "75%     0.950000\n",
       "max     0.968000"
      ]
     },
     "execution_count": 14,
     "metadata": {},
     "output_type": "execute_result"
    }
   ],
   "source": [
    "eval.describe()"
   ]
  },
  {
   "cell_type": "code",
   "execution_count": 15,
   "metadata": {},
   "outputs": [
    {
     "data": {
      "text/plain": [
       "(          recall\n",
       " b'trees'   0.968,\n",
       "             recall\n",
       " b'flowers'   0.882)"
      ]
     },
     "execution_count": 15,
     "metadata": {},
     "output_type": "execute_result"
    }
   ],
   "source": [
    "find_extrema(eval)"
   ]
  },
  {
   "cell_type": "code",
   "execution_count": 16,
   "metadata": {},
   "outputs": [
    {
     "data": {
      "application/json": {
       "ascii": false,
       "bar_format": null,
       "colour": null,
       "elapsed": 0.003042936325073242,
       "initial": 0,
       "n": 0,
       "ncols": null,
       "nrows": null,
       "postfix": null,
       "prefix": "",
       "rate": null,
       "total": 313,
       "unit": "it",
       "unit_divisor": 1000,
       "unit_scale": false
      },
      "application/vnd.jupyter.widget-view+json": {
       "model_id": "b71d9649abdf43758e88bb698844f211",
       "version_major": 2,
       "version_minor": 0
      },
      "text/plain": [
       "  0%|          | 0/313 [00:00<?, ?it/s]"
      ]
     },
     "metadata": {},
     "output_type": "display_data"
    },
    {
     "name": "stdout",
     "output_type": "stream",
     "text": [
      "\n",
      "Performance (n=10000 test imgs, decision threshold=0.5)\n",
      "Overall accuracy: 92.91%\n",
      "\n",
      "                  recall\n",
      "b'apple'            0.91\n",
      "b'aquarium_fish'    0.92\n",
      "b'baby'             0.92\n",
      "b'bear'             0.96\n",
      "b'beaver'           0.94\n",
      "...                  ...\n",
      "b'whale'            0.90\n",
      "b'willow_tree'      1.00\n",
      "b'wolf'             0.98\n",
      "b'woman'            0.84\n",
      "b'worm'             0.94\n",
      "\n",
      "[100 rows x 1 columns]\n"
     ]
    }
   ],
   "source": [
    "gold, preds = test_model(model, testdata_fine)\n",
    "acc_fine, eval_fine = score_content_preds(gold, preds, class_dict)"
   ]
  },
  {
   "cell_type": "code",
   "execution_count": 17,
   "metadata": {},
   "outputs": [
    {
     "data": {
      "text/html": [
       "<div>\n",
       "<style scoped>\n",
       "    .dataframe tbody tr th:only-of-type {\n",
       "        vertical-align: middle;\n",
       "    }\n",
       "\n",
       "    .dataframe tbody tr th {\n",
       "        vertical-align: top;\n",
       "    }\n",
       "\n",
       "    .dataframe thead th {\n",
       "        text-align: right;\n",
       "    }\n",
       "</style>\n",
       "<table border=\"1\" class=\"dataframe\">\n",
       "  <thead>\n",
       "    <tr style=\"text-align: right;\">\n",
       "      <th></th>\n",
       "      <th>recall</th>\n",
       "    </tr>\n",
       "  </thead>\n",
       "  <tbody>\n",
       "    <tr>\n",
       "      <th>count</th>\n",
       "      <td>100.000000</td>\n",
       "    </tr>\n",
       "    <tr>\n",
       "      <th>mean</th>\n",
       "      <td>0.929100</td>\n",
       "    </tr>\n",
       "    <tr>\n",
       "      <th>std</th>\n",
       "      <td>0.045706</td>\n",
       "    </tr>\n",
       "    <tr>\n",
       "      <th>min</th>\n",
       "      <td>0.760000</td>\n",
       "    </tr>\n",
       "    <tr>\n",
       "      <th>25%</th>\n",
       "      <td>0.910000</td>\n",
       "    </tr>\n",
       "    <tr>\n",
       "      <th>50%</th>\n",
       "      <td>0.940000</td>\n",
       "    </tr>\n",
       "    <tr>\n",
       "      <th>75%</th>\n",
       "      <td>0.960000</td>\n",
       "    </tr>\n",
       "    <tr>\n",
       "      <th>max</th>\n",
       "      <td>1.000000</td>\n",
       "    </tr>\n",
       "  </tbody>\n",
       "</table>\n",
       "</div>"
      ],
      "text/plain": [
       "           recall\n",
       "count  100.000000\n",
       "mean     0.929100\n",
       "std      0.045706\n",
       "min      0.760000\n",
       "25%      0.910000\n",
       "50%      0.940000\n",
       "75%      0.960000\n",
       "max      1.000000"
      ]
     },
     "execution_count": 17,
     "metadata": {},
     "output_type": "execute_result"
    }
   ],
   "source": [
    "eval_fine.describe()"
   ]
  },
  {
   "cell_type": "code",
   "execution_count": 18,
   "metadata": {},
   "outputs": [
    {
     "data": {
      "text/plain": [
       "(        recall\n",
       " b'ray'     1.0,\n",
       "               recall\n",
       " b'butterfly'    0.76)"
      ]
     },
     "execution_count": 18,
     "metadata": {},
     "output_type": "execute_result"
    }
   ],
   "source": [
    "find_extrema(eval_fine)"
   ]
  },
  {
   "cell_type": "code",
   "execution_count": 19,
   "metadata": {},
   "outputs": [
    {
     "data": {
      "image/png": "[encoded data removed]",
      "text/plain": [
       "<Figure size 640x480 with 1 Axes>"
      ]
     },
     "metadata": {},
     "output_type": "display_data"
    }
   ],
   "source": [
    "thresh_df_ci100 = test_thresh_size([1.0 for x in gold], preds)\n",
    "visualise(thresh_df_ci100)\n"
   ]
  },
  {
   "cell_type": "code",
   "execution_count": 20,
   "metadata": {},
   "outputs": [
    {
     "data": {
      "text/html": [
       "<div>\n",
       "<style scoped>\n",
       "    .dataframe tbody tr th:only-of-type {\n",
       "        vertical-align: middle;\n",
       "    }\n",
       "\n",
       "    .dataframe tbody tr th {\n",
       "        vertical-align: top;\n",
       "    }\n",
       "\n",
       "    .dataframe thead th {\n",
       "        text-align: right;\n",
       "    }\n",
       "</style>\n",
       "<table border=\"1\" class=\"dataframe\">\n",
       "  <thead>\n",
       "    <tr style=\"text-align: right;\">\n",
       "      <th></th>\n",
       "      <th>Accuracy</th>\n",
       "      <th>Precision</th>\n",
       "      <th>Recall</th>\n",
       "      <th>F1-Score</th>\n",
       "    </tr>\n",
       "  </thead>\n",
       "  <tbody>\n",
       "    <tr>\n",
       "      <th>0.1</th>\n",
       "      <td>98.92</td>\n",
       "      <td>100.0</td>\n",
       "      <td>98.92</td>\n",
       "      <td>99.457068</td>\n",
       "    </tr>\n",
       "    <tr>\n",
       "      <th>0.2</th>\n",
       "      <td>97.62</td>\n",
       "      <td>100.0</td>\n",
       "      <td>97.62</td>\n",
       "      <td>98.795668</td>\n",
       "    </tr>\n",
       "    <tr>\n",
       "      <th>0.3</th>\n",
       "      <td>96.17</td>\n",
       "      <td>100.0</td>\n",
       "      <td>96.17</td>\n",
       "      <td>98.047612</td>\n",
       "    </tr>\n",
       "    <tr>\n",
       "      <th>0.4</th>\n",
       "      <td>94.58</td>\n",
       "      <td>100.0</td>\n",
       "      <td>94.58</td>\n",
       "      <td>97.214513</td>\n",
       "    </tr>\n",
       "    <tr>\n",
       "      <th>0.5</th>\n",
       "      <td>92.91</td>\n",
       "      <td>100.0</td>\n",
       "      <td>92.91</td>\n",
       "      <td>96.324711</td>\n",
       "    </tr>\n",
       "    <tr>\n",
       "      <th>0.6</th>\n",
       "      <td>90.80</td>\n",
       "      <td>100.0</td>\n",
       "      <td>90.80</td>\n",
       "      <td>95.178197</td>\n",
       "    </tr>\n",
       "    <tr>\n",
       "      <th>0.7</th>\n",
       "      <td>87.86</td>\n",
       "      <td>100.0</td>\n",
       "      <td>87.86</td>\n",
       "      <td>93.537741</td>\n",
       "    </tr>\n",
       "    <tr>\n",
       "      <th>0.8</th>\n",
       "      <td>83.90</td>\n",
       "      <td>100.0</td>\n",
       "      <td>83.90</td>\n",
       "      <td>91.245242</td>\n",
       "    </tr>\n",
       "    <tr>\n",
       "      <th>0.9</th>\n",
       "      <td>75.40</td>\n",
       "      <td>100.0</td>\n",
       "      <td>75.40</td>\n",
       "      <td>85.974914</td>\n",
       "    </tr>\n",
       "  </tbody>\n",
       "</table>\n",
       "</div>"
      ],
      "text/plain": [
       "     Accuracy  Precision  Recall   F1-Score\n",
       "0.1     98.92      100.0   98.92  99.457068\n",
       "0.2     97.62      100.0   97.62  98.795668\n",
       "0.3     96.17      100.0   96.17  98.047612\n",
       "0.4     94.58      100.0   94.58  97.214513\n",
       "0.5     92.91      100.0   92.91  96.324711\n",
       "0.6     90.80      100.0   90.80  95.178197\n",
       "0.7     87.86      100.0   87.86  93.537741\n",
       "0.8     83.90      100.0   83.90  91.245242\n",
       "0.9     75.40      100.0   75.40  85.974914"
      ]
     },
     "execution_count": 20,
     "metadata": {},
     "output_type": "execute_result"
    }
   ],
   "source": [
    "thresh_df_ci100"
   ]
  },
  {
   "cell_type": "code",
   "execution_count": 21,
   "metadata": {},
   "outputs": [
    {
     "data": {
      "text/html": [
       "<div>\n",
       "<style scoped>\n",
       "    .dataframe tbody tr th:only-of-type {\n",
       "        vertical-align: middle;\n",
       "    }\n",
       "\n",
       "    .dataframe tbody tr th {\n",
       "        vertical-align: top;\n",
       "    }\n",
       "\n",
       "    .dataframe thead th {\n",
       "        text-align: right;\n",
       "    }\n",
       "</style>\n",
       "<table border=\"1\" class=\"dataframe\">\n",
       "  <thead>\n",
       "    <tr style=\"text-align: right;\">\n",
       "      <th></th>\n",
       "      <th>Accuracy</th>\n",
       "      <th>Precision</th>\n",
       "      <th>Recall</th>\n",
       "      <th>F1-Score</th>\n",
       "    </tr>\n",
       "  </thead>\n",
       "  <tbody>\n",
       "    <tr>\n",
       "      <th>count</th>\n",
       "      <td>9.000000</td>\n",
       "      <td>9.0</td>\n",
       "      <td>9.000000</td>\n",
       "      <td>9.000000</td>\n",
       "    </tr>\n",
       "    <tr>\n",
       "      <th>mean</th>\n",
       "      <td>90.906667</td>\n",
       "      <td>100.0</td>\n",
       "      <td>90.906667</td>\n",
       "      <td>95.086185</td>\n",
       "    </tr>\n",
       "    <tr>\n",
       "      <th>std</th>\n",
       "      <td>7.527744</td>\n",
       "      <td>0.0</td>\n",
       "      <td>7.527744</td>\n",
       "      <td>4.299315</td>\n",
       "    </tr>\n",
       "    <tr>\n",
       "      <th>min</th>\n",
       "      <td>75.400000</td>\n",
       "      <td>100.0</td>\n",
       "      <td>75.400000</td>\n",
       "      <td>85.974914</td>\n",
       "    </tr>\n",
       "    <tr>\n",
       "      <th>25%</th>\n",
       "      <td>87.860000</td>\n",
       "      <td>100.0</td>\n",
       "      <td>87.860000</td>\n",
       "      <td>93.537741</td>\n",
       "    </tr>\n",
       "    <tr>\n",
       "      <th>50%</th>\n",
       "      <td>92.910000</td>\n",
       "      <td>100.0</td>\n",
       "      <td>92.910000</td>\n",
       "      <td>96.324711</td>\n",
       "    </tr>\n",
       "    <tr>\n",
       "      <th>75%</th>\n",
       "      <td>96.170000</td>\n",
       "      <td>100.0</td>\n",
       "      <td>96.170000</td>\n",
       "      <td>98.047612</td>\n",
       "    </tr>\n",
       "    <tr>\n",
       "      <th>max</th>\n",
       "      <td>98.920000</td>\n",
       "      <td>100.0</td>\n",
       "      <td>98.920000</td>\n",
       "      <td>99.457068</td>\n",
       "    </tr>\n",
       "  </tbody>\n",
       "</table>\n",
       "</div>"
      ],
      "text/plain": [
       "        Accuracy  Precision     Recall   F1-Score\n",
       "count   9.000000        9.0   9.000000   9.000000\n",
       "mean   90.906667      100.0  90.906667  95.086185\n",
       "std     7.527744        0.0   7.527744   4.299315\n",
       "min    75.400000      100.0  75.400000  85.974914\n",
       "25%    87.860000      100.0  87.860000  93.537741\n",
       "50%    92.910000      100.0  92.910000  96.324711\n",
       "75%    96.170000      100.0  96.170000  98.047612\n",
       "max    98.920000      100.0  98.920000  99.457068"
      ]
     },
     "execution_count": 21,
     "metadata": {},
     "output_type": "execute_result"
    }
   ],
   "source": [
    "thresh_df_ci100.describe()"
   ]
  },
  {
   "cell_type": "markdown",
   "metadata": {},
   "source": [
    "### Comparison"
   ]
  },
  {
   "cell_type": "markdown",
   "metadata": {},
   "source": [
    "### Mini"
   ]
  },
  {
   "cell_type": "code",
   "execution_count": 22,
   "metadata": {},
   "outputs": [
    {
     "data": {
      "application/json": {
       "ascii": false,
       "bar_format": null,
       "colour": null,
       "elapsed": 0.004792928695678711,
       "initial": 0,
       "n": 0,
       "ncols": null,
       "nrows": null,
       "postfix": null,
       "prefix": "",
       "rate": null,
       "total": 313,
       "unit": "it",
       "unit_divisor": 1000,
       "unit_scale": false
      },
      "application/vnd.jupyter.widget-view+json": {
       "model_id": "76a7bd975d104848884dc71953889cda",
       "version_major": 2,
       "version_minor": 0
      },
      "text/plain": [
       "  0%|          | 0/313 [00:00<?, ?it/s]"
      ]
     },
     "metadata": {},
     "output_type": "display_data"
    },
    {
     "name": "stdout",
     "output_type": "stream",
     "text": [
      "\n",
      "Performance (n=10000 test imgs, decision threshold=0.5)\n",
      "Overall accuracy: 90.37%\n",
      "\n",
      "                                   recall\n",
      "b'aquatic_mammals'                  0.924\n",
      "b'fish'                             0.928\n",
      "b'flowers'                          0.654\n",
      "b'food_containers'                  0.936\n",
      "b'fruit_and_vegetables'             0.796\n",
      "b'household_electrical_devices'     0.892\n",
      "b'household_furniture'              0.914\n",
      "b'insects'                          0.820\n",
      "b'large_carnivores'                 0.922\n",
      "b'large_man-made_outdoor_things'    0.944\n",
      "b'large_natural_outdoor_scenes'     0.952\n",
      "b'large_omnivores_and_herbivores'   0.968\n",
      "b'medium_mammals'                   0.930\n",
      "b'non-insect_invertebrates'         0.918\n",
      "b'people'                           0.932\n",
      "b'reptiles'                         0.930\n",
      "b'small_mammals'                    0.984\n",
      "b'trees'                            0.962\n",
      "b'vehicles_1'                       0.854\n",
      "b'vehicles_2'                       0.914\n"
     ]
    }
   ],
   "source": [
    "mini = CIFAKE_CNN()\n",
    "mini.load_state_dict(torch.load(config['mini_model']))\n",
    "mini.eval()\n",
    "gold_mini, preds_mini = test_model(mini, testdata)\n",
    "acc_mini, eval_mini = score_content_preds(gold_mini, preds_mini, superclass_dict)"
   ]
  },
  {
   "cell_type": "code",
   "execution_count": 23,
   "metadata": {},
   "outputs": [
    {
     "data": {
      "text/html": [
       "<div>\n",
       "<style scoped>\n",
       "    .dataframe tbody tr th:only-of-type {\n",
       "        vertical-align: middle;\n",
       "    }\n",
       "\n",
       "    .dataframe tbody tr th {\n",
       "        vertical-align: top;\n",
       "    }\n",
       "\n",
       "    .dataframe thead th {\n",
       "        text-align: right;\n",
       "    }\n",
       "</style>\n",
       "<table border=\"1\" class=\"dataframe\">\n",
       "  <thead>\n",
       "    <tr style=\"text-align: right;\">\n",
       "      <th></th>\n",
       "      <th>recall</th>\n",
       "    </tr>\n",
       "  </thead>\n",
       "  <tbody>\n",
       "    <tr>\n",
       "      <th>count</th>\n",
       "      <td>20.000000</td>\n",
       "    </tr>\n",
       "    <tr>\n",
       "      <th>mean</th>\n",
       "      <td>0.903700</td>\n",
       "    </tr>\n",
       "    <tr>\n",
       "      <th>std</th>\n",
       "      <td>0.074862</td>\n",
       "    </tr>\n",
       "    <tr>\n",
       "      <th>min</th>\n",
       "      <td>0.654000</td>\n",
       "    </tr>\n",
       "    <tr>\n",
       "      <th>25%</th>\n",
       "      <td>0.908500</td>\n",
       "    </tr>\n",
       "    <tr>\n",
       "      <th>50%</th>\n",
       "      <td>0.926000</td>\n",
       "    </tr>\n",
       "    <tr>\n",
       "      <th>75%</th>\n",
       "      <td>0.938000</td>\n",
       "    </tr>\n",
       "    <tr>\n",
       "      <th>max</th>\n",
       "      <td>0.984000</td>\n",
       "    </tr>\n",
       "  </tbody>\n",
       "</table>\n",
       "</div>"
      ],
      "text/plain": [
       "          recall\n",
       "count  20.000000\n",
       "mean    0.903700\n",
       "std     0.074862\n",
       "min     0.654000\n",
       "25%     0.908500\n",
       "50%     0.926000\n",
       "75%     0.938000\n",
       "max     0.984000"
      ]
     },
     "execution_count": 23,
     "metadata": {},
     "output_type": "execute_result"
    }
   ],
   "source": [
    "eval_mini.describe()"
   ]
  },
  {
   "cell_type": "code",
   "execution_count": 24,
   "metadata": {},
   "outputs": [
    {
     "data": {
      "text/plain": [
       "(                  recall\n",
       " b'small_mammals'   0.984,\n",
       "             recall\n",
       " b'flowers'   0.654)"
      ]
     },
     "execution_count": 24,
     "metadata": {},
     "output_type": "execute_result"
    }
   ],
   "source": [
    "find_extrema(eval_mini)"
   ]
  },
  {
   "cell_type": "code",
   "execution_count": 25,
   "metadata": {},
   "outputs": [
    {
     "data": {
      "application/json": {
       "ascii": false,
       "bar_format": null,
       "colour": null,
       "elapsed": 0.0068738460540771484,
       "initial": 0,
       "n": 0,
       "ncols": null,
       "nrows": null,
       "postfix": null,
       "prefix": "",
       "rate": null,
       "total": 313,
       "unit": "it",
       "unit_divisor": 1000,
       "unit_scale": false
      },
      "application/vnd.jupyter.widget-view+json": {
       "model_id": "cc67cc5a8aed4eecafb7e994f6640638",
       "version_major": 2,
       "version_minor": 0
      },
      "text/plain": [
       "  0%|          | 0/313 [00:00<?, ?it/s]"
      ]
     },
     "metadata": {},
     "output_type": "display_data"
    },
    {
     "name": "stdout",
     "output_type": "stream",
     "text": [
      "\n",
      "Performance (n=10000 test imgs, decision threshold=0.5)\n",
      "Overall accuracy: 90.37%\n",
      "\n",
      "                  recall\n",
      "b'apple'            0.94\n",
      "b'aquarium_fish'    0.86\n",
      "b'baby'             0.95\n",
      "b'bear'             0.98\n",
      "b'beaver'           0.99\n",
      "...                  ...\n",
      "b'whale'            0.84\n",
      "b'willow_tree'      1.00\n",
      "b'wolf'             0.99\n",
      "b'woman'            0.94\n",
      "b'worm'             0.91\n",
      "\n",
      "[100 rows x 1 columns]\n"
     ]
    }
   ],
   "source": [
    "gold_mini_fine, preds_mini_fine = test_model(mini, testdata_fine)\n",
    "acc_mini_fine, eval_mini_fine = score_content_preds(\n",
    "    gold_mini_fine, preds_mini_fine, class_dict)"
   ]
  },
  {
   "cell_type": "code",
   "execution_count": 26,
   "metadata": {},
   "outputs": [
    {
     "data": {
      "text/html": [
       "<div>\n",
       "<style scoped>\n",
       "    .dataframe tbody tr th:only-of-type {\n",
       "        vertical-align: middle;\n",
       "    }\n",
       "\n",
       "    .dataframe tbody tr th {\n",
       "        vertical-align: top;\n",
       "    }\n",
       "\n",
       "    .dataframe thead th {\n",
       "        text-align: right;\n",
       "    }\n",
       "</style>\n",
       "<table border=\"1\" class=\"dataframe\">\n",
       "  <thead>\n",
       "    <tr style=\"text-align: right;\">\n",
       "      <th></th>\n",
       "      <th>recall</th>\n",
       "    </tr>\n",
       "  </thead>\n",
       "  <tbody>\n",
       "    <tr>\n",
       "      <th>count</th>\n",
       "      <td>100.00000</td>\n",
       "    </tr>\n",
       "    <tr>\n",
       "      <th>mean</th>\n",
       "      <td>0.90370</td>\n",
       "    </tr>\n",
       "    <tr>\n",
       "      <th>std</th>\n",
       "      <td>0.10655</td>\n",
       "    </tr>\n",
       "    <tr>\n",
       "      <th>min</th>\n",
       "      <td>0.35000</td>\n",
       "    </tr>\n",
       "    <tr>\n",
       "      <th>25%</th>\n",
       "      <td>0.87500</td>\n",
       "    </tr>\n",
       "    <tr>\n",
       "      <th>50%</th>\n",
       "      <td>0.94000</td>\n",
       "    </tr>\n",
       "    <tr>\n",
       "      <th>75%</th>\n",
       "      <td>0.97250</td>\n",
       "    </tr>\n",
       "    <tr>\n",
       "      <th>max</th>\n",
       "      <td>1.00000</td>\n",
       "    </tr>\n",
       "  </tbody>\n",
       "</table>\n",
       "</div>"
      ],
      "text/plain": [
       "          recall\n",
       "count  100.00000\n",
       "mean     0.90370\n",
       "std      0.10655\n",
       "min      0.35000\n",
       "25%      0.87500\n",
       "50%      0.94000\n",
       "75%      0.97250\n",
       "max      1.00000"
      ]
     },
     "execution_count": 26,
     "metadata": {},
     "output_type": "execute_result"
    }
   ],
   "source": [
    "eval_mini_fine.describe()"
   ]
  },
  {
   "cell_type": "code",
   "execution_count": 27,
   "metadata": {},
   "outputs": [
    {
     "data": {
      "text/plain": [
       "(               recall\n",
       " b'chimpanzee'     1.0,\n",
       "               recall\n",
       " b'sunflower'    0.35)"
      ]
     },
     "execution_count": 27,
     "metadata": {},
     "output_type": "execute_result"
    }
   ],
   "source": [
    "find_extrema(eval_mini_fine)"
   ]
  },
  {
   "cell_type": "code",
   "execution_count": 28,
   "metadata": {},
   "outputs": [
    {
     "data": {
      "image/png": "[encoded data removed]",
      "text/plain": [
       "<Figure size 640x480 with 1 Axes>"
      ]
     },
     "metadata": {},
     "output_type": "display_data"
    }
   ],
   "source": [
    "thresh_df_ci100_mini = test_thresh_size([1.0 for x in gold_mini], preds_mini)\n",
    "visualise(thresh_df_ci100_mini)\n"
   ]
  },
  {
   "cell_type": "markdown",
   "metadata": {},
   "source": [
    "### Attention model"
   ]
  },
  {
   "cell_type": "code",
   "execution_count": 29,
   "metadata": {},
   "outputs": [
    {
     "data": {
      "application/json": {
       "ascii": false,
       "bar_format": null,
       "colour": null,
       "elapsed": 0.0036361217498779297,
       "initial": 0,
       "n": 0,
       "ncols": null,
       "nrows": null,
       "postfix": null,
       "prefix": "",
       "rate": null,
       "total": 313,
       "unit": "it",
       "unit_divisor": 1000,
       "unit_scale": false
      },
      "application/vnd.jupyter.widget-view+json": {
       "model_id": "6088ca01de434df0b9b8503fd718a259",
       "version_major": 2,
       "version_minor": 0
      },
      "text/plain": [
       "  0%|          | 0/313 [00:00<?, ?it/s]"
      ]
     },
     "metadata": {},
     "output_type": "display_data"
    },
    {
     "name": "stdout",
     "output_type": "stream",
     "text": [
      "\n",
      "Performance (n=10000 test imgs, decision threshold=0.5)\n",
      "Overall accuracy: 91.31%\n",
      "\n",
      "                                   recall\n",
      "b'aquatic_mammals'                  0.940\n",
      "b'fish'                             0.954\n",
      "b'flowers'                          0.870\n",
      "b'food_containers'                  0.898\n",
      "b'fruit_and_vegetables'             0.904\n",
      "b'household_electrical_devices'     0.872\n",
      "b'household_furniture'              0.924\n",
      "b'insects'                          0.876\n",
      "b'large_carnivores'                 0.948\n",
      "b'large_man-made_outdoor_things'    0.924\n",
      "b'large_natural_outdoor_scenes'     0.838\n",
      "b'large_omnivores_and_herbivores'   0.942\n",
      "b'medium_mammals'                   0.934\n",
      "b'non-insect_invertebrates'         0.906\n",
      "b'people'                           0.904\n",
      "b'reptiles'                         0.930\n",
      "b'small_mammals'                    0.972\n",
      "b'trees'                            0.948\n",
      "b'vehicles_1'                       0.878\n",
      "b'vehicles_2'                       0.900\n"
     ]
    }
   ],
   "source": [
    "attn = CIFAKE_CNN(attn=True)\n",
    "attn.load_state_dict(torch.load(config['attn_model']))\n",
    "gold_attn, preds_attn = test_model(attn, testdata)\n",
    "acc_attn, eval_attn = score_content_preds(gold_attn, preds_attn, superclass_dict)"
   ]
  },
  {
   "cell_type": "code",
   "execution_count": 30,
   "metadata": {},
   "outputs": [
    {
     "data": {
      "text/html": [
       "<div>\n",
       "<style scoped>\n",
       "    .dataframe tbody tr th:only-of-type {\n",
       "        vertical-align: middle;\n",
       "    }\n",
       "\n",
       "    .dataframe tbody tr th {\n",
       "        vertical-align: top;\n",
       "    }\n",
       "\n",
       "    .dataframe thead th {\n",
       "        text-align: right;\n",
       "    }\n",
       "</style>\n",
       "<table border=\"1\" class=\"dataframe\">\n",
       "  <thead>\n",
       "    <tr style=\"text-align: right;\">\n",
       "      <th></th>\n",
       "      <th>recall</th>\n",
       "    </tr>\n",
       "  </thead>\n",
       "  <tbody>\n",
       "    <tr>\n",
       "      <th>count</th>\n",
       "      <td>20.000000</td>\n",
       "    </tr>\n",
       "    <tr>\n",
       "      <th>mean</th>\n",
       "      <td>0.913100</td>\n",
       "    </tr>\n",
       "    <tr>\n",
       "      <th>std</th>\n",
       "      <td>0.034418</td>\n",
       "    </tr>\n",
       "    <tr>\n",
       "      <th>min</th>\n",
       "      <td>0.838000</td>\n",
       "    </tr>\n",
       "    <tr>\n",
       "      <th>25%</th>\n",
       "      <td>0.893000</td>\n",
       "    </tr>\n",
       "    <tr>\n",
       "      <th>50%</th>\n",
       "      <td>0.915000</td>\n",
       "    </tr>\n",
       "    <tr>\n",
       "      <th>75%</th>\n",
       "      <td>0.940500</td>\n",
       "    </tr>\n",
       "    <tr>\n",
       "      <th>max</th>\n",
       "      <td>0.972000</td>\n",
       "    </tr>\n",
       "  </tbody>\n",
       "</table>\n",
       "</div>"
      ],
      "text/plain": [
       "          recall\n",
       "count  20.000000\n",
       "mean    0.913100\n",
       "std     0.034418\n",
       "min     0.838000\n",
       "25%     0.893000\n",
       "50%     0.915000\n",
       "75%     0.940500\n",
       "max     0.972000"
      ]
     },
     "execution_count": 30,
     "metadata": {},
     "output_type": "execute_result"
    }
   ],
   "source": [
    "eval_attn.describe()"
   ]
  },
  {
   "cell_type": "code",
   "execution_count": 31,
   "metadata": {},
   "outputs": [
    {
     "data": {
      "text/plain": [
       "(                  recall\n",
       " b'small_mammals'   0.972,\n",
       "                                  recall\n",
       " b'large_natural_outdoor_scenes'   0.838)"
      ]
     },
     "execution_count": 31,
     "metadata": {},
     "output_type": "execute_result"
    }
   ],
   "source": [
    "find_extrema(eval_attn)"
   ]
  },
  {
   "cell_type": "code",
   "execution_count": 32,
   "metadata": {},
   "outputs": [
    {
     "data": {
      "application/json": {
       "ascii": false,
       "bar_format": null,
       "colour": null,
       "elapsed": 0.015122175216674805,
       "initial": 0,
       "n": 0,
       "ncols": null,
       "nrows": null,
       "postfix": null,
       "prefix": "",
       "rate": null,
       "total": 313,
       "unit": "it",
       "unit_divisor": 1000,
       "unit_scale": false
      },
      "application/vnd.jupyter.widget-view+json": {
       "model_id": "2695b701f9544209a80a7004b56f605f",
       "version_major": 2,
       "version_minor": 0
      },
      "text/plain": [
       "  0%|          | 0/313 [00:00<?, ?it/s]"
      ]
     },
     "metadata": {},
     "output_type": "display_data"
    },
    {
     "name": "stdout",
     "output_type": "stream",
     "text": [
      "\n",
      "Performance (n=10000 test imgs, decision threshold=0.5)\n",
      "Overall accuracy: 91.31%\n",
      "\n",
      "                  recall\n",
      "b'apple'            0.94\n",
      "b'aquarium_fish'    0.95\n",
      "b'baby'             0.93\n",
      "b'bear'             0.97\n",
      "b'beaver'           0.93\n",
      "...                  ...\n",
      "b'whale'            0.86\n",
      "b'willow_tree'      0.98\n",
      "b'wolf'             0.98\n",
      "b'woman'            0.91\n",
      "b'worm'             0.89\n",
      "\n",
      "[100 rows x 1 columns]\n"
     ]
    }
   ],
   "source": [
    "gold_attn_fine, preds_attn_fine = test_model(attn, testdata_fine)\n",
    "acc_attn_fine, eval_attn_fine = score_content_preds(\n",
    "    gold_attn_fine, preds_attn_fine, class_dict)"
   ]
  },
  {
   "cell_type": "code",
   "execution_count": 33,
   "metadata": {},
   "outputs": [
    {
     "data": {
      "text/html": [
       "<div>\n",
       "<style scoped>\n",
       "    .dataframe tbody tr th:only-of-type {\n",
       "        vertical-align: middle;\n",
       "    }\n",
       "\n",
       "    .dataframe tbody tr th {\n",
       "        vertical-align: top;\n",
       "    }\n",
       "\n",
       "    .dataframe thead th {\n",
       "        text-align: right;\n",
       "    }\n",
       "</style>\n",
       "<table border=\"1\" class=\"dataframe\">\n",
       "  <thead>\n",
       "    <tr style=\"text-align: right;\">\n",
       "      <th></th>\n",
       "      <th>recall</th>\n",
       "    </tr>\n",
       "  </thead>\n",
       "  <tbody>\n",
       "    <tr>\n",
       "      <th>count</th>\n",
       "      <td>100.000000</td>\n",
       "    </tr>\n",
       "    <tr>\n",
       "      <th>mean</th>\n",
       "      <td>0.913100</td>\n",
       "    </tr>\n",
       "    <tr>\n",
       "      <th>std</th>\n",
       "      <td>0.060364</td>\n",
       "    </tr>\n",
       "    <tr>\n",
       "      <th>min</th>\n",
       "      <td>0.620000</td>\n",
       "    </tr>\n",
       "    <tr>\n",
       "      <th>25%</th>\n",
       "      <td>0.890000</td>\n",
       "    </tr>\n",
       "    <tr>\n",
       "      <th>50%</th>\n",
       "      <td>0.930000</td>\n",
       "    </tr>\n",
       "    <tr>\n",
       "      <th>75%</th>\n",
       "      <td>0.950000</td>\n",
       "    </tr>\n",
       "    <tr>\n",
       "      <th>max</th>\n",
       "      <td>0.990000</td>\n",
       "    </tr>\n",
       "  </tbody>\n",
       "</table>\n",
       "</div>"
      ],
      "text/plain": [
       "           recall\n",
       "count  100.000000\n",
       "mean     0.913100\n",
       "std      0.060364\n",
       "min      0.620000\n",
       "25%      0.890000\n",
       "50%      0.930000\n",
       "75%      0.950000\n",
       "max      0.990000"
      ]
     },
     "execution_count": 33,
     "metadata": {},
     "output_type": "execute_result"
    }
   ],
   "source": [
    "eval_attn_fine.describe()"
   ]
  },
  {
   "cell_type": "code",
   "execution_count": 34,
   "metadata": {},
   "outputs": [
    {
     "data": {
      "text/plain": [
       "(           recall\n",
       " b'castle'    0.99,\n",
       "         recall\n",
       " b'sea'    0.62)"
      ]
     },
     "execution_count": 34,
     "metadata": {},
     "output_type": "execute_result"
    }
   ],
   "source": [
    "find_extrema(eval_attn_fine)"
   ]
  },
  {
   "cell_type": "code",
   "execution_count": 35,
   "metadata": {},
   "outputs": [
    {
     "data": {
      "image/png": "[encoded data removed]",
      "text/plain": [
       "<Figure size 640x480 with 1 Axes>"
      ]
     },
     "metadata": {},
     "output_type": "display_data"
    }
   ],
   "source": [
    "thresh_df_ci100_attn = test_thresh_size([1.0 for x in gold_attn], preds_attn)\n",
    "visualise(thresh_df_ci100_attn)"
   ]
  },
  {
   "cell_type": "code",
   "execution_count": null,
   "metadata": {},
   "outputs": [],
   "source": []
  }
 ],
 "metadata": {
  "kernelspec": {
   "display_name": "Python 3",
   "language": "python",
   "name": "python3"
  },
  "language_info": {
   "codemirror_mode": {
    "name": "ipython",
    "version": 3
   },
   "file_extension": ".py",
   "mimetype": "text/x-python",
   "name": "python",
   "nbconvert_exporter": "python",
   "pygments_lexer": "ipython3",
   "version": "3.10.0"
  }
 },
 "nbformat": 4,
 "nbformat_minor": 2
}
