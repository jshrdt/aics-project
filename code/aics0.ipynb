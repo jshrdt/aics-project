{
 "cells": [
  {
   "cell_type": "code",
   "execution_count": 27,
   "metadata": {},
   "outputs": [],
   "source": [
    "## Imports\n",
    "import random\n",
    "import json\n",
    "import torch\n",
    "\n",
    "from classes import  CIFAKE_loader, CIFAKE_CNN\n",
    "from test import test_model, score_preds\n",
    "from train import get_files, train\n",
    "\n",
    "\n",
    "torch.manual_seed(11)\n",
    "random.seed(11)\n",
    "\n",
    "with open('./config.json') as f:\n",
    "    config = json.load(f)\n",
    "\n",
    "model_path = config['model']\n",
    "src_dir = config['CIFAKE_dir']  # https://www.kaggle.com/datasets/birdy654/cifake-real-and-ai-generated-synthetic-images/data, Dec 11, 14:05"
   ]
  },
  {
   "cell_type": "markdown",
   "metadata": {},
   "source": [
    "### Load data"
   ]
  },
  {
   "cell_type": "code",
   "execution_count": 100,
   "metadata": {},
   "outputs": [
    {
     "data": {
      "text/plain": [
       "list"
      ]
     },
     "execution_count": 100,
     "metadata": {},
     "output_type": "execute_result"
    }
   ],
   "source": [
    "# load data\n",
    "data = get_files(src_dir)\n",
    "trainfiles = data['train'][:int(len(data['train'])*0.975)]\n",
    "devfiles = data['train'][int(len(data['train'])*0.975):]\n",
    "testfiles = data['test']\n",
    "trainfiles[0]  # tuple of filepath + class as str\n",
    "type(trainfiles)"
   ]
  },
  {
   "cell_type": "code",
   "execution_count": 101,
   "metadata": {},
   "outputs": [],
   "source": [
    "# plot example pre/post normalise; cf tutorial code\n",
    "# import matplotlib.pyplot as plt\n",
    "# plt.imshow(np.array(Image.open(a.data[0][0])))  #normal img\n",
    "# c = transform(Image.open(a.data[0][0]))  # post transform & re-normalise,,kind of\n",
    "# c = c / 2 + 0.5     # unnormalize\n",
    "# npimg = c.numpy()\n",
    "# plt.imshow(np.transpose(npimg, (1, 2, 0)))\n",
    "# plt.show()\n"
   ]
  },
  {
   "cell_type": "code",
   "execution_count": 102,
   "metadata": {},
   "outputs": [],
   "source": [
    "traindata = CIFAKE_loader(trainfiles, batch_size=32)\n",
    "devdata =  CIFAKE_loader(devfiles, batch_size=32)"
   ]
  },
  {
   "cell_type": "code",
   "execution_count": 103,
   "metadata": {},
   "outputs": [
    {
     "data": {
      "text/plain": [
       "2500"
      ]
     },
     "execution_count": 103,
     "metadata": {},
     "output_type": "execute_result"
    }
   ],
   "source": [
    "len(devdata)"
   ]
  },
  {
   "cell_type": "markdown",
   "metadata": {},
   "source": [
    "## Training"
   ]
  },
  {
   "cell_type": "markdown",
   "metadata": {},
   "source": [
    "Base from AICS course cifar10_tutorial.ipynb\n",
    "\n",
    "CNN+Linear layers with maxpooling  \n",
    "Conv2d(3, 6, 5),  \n",
    "ReLU(),  \n",
    "MaxPool2d(2, 2),  \n",
    "Conv2d(6, 16, 5),  \n",
    "ReLU(),  \n",
    "MaxPool2d(2, 2),  \n",
    "Flatten(),  \n",
    "Linear(16 * 5 * 5, 120),  \n",
    "ReLU(),  \n",
    "Linear(120, 84),  \n",
    "ReLU(),  \n",
    "Linear(84, 10)  \n",
    "Sigmoid()  "
   ]
  },
  {
   "cell_type": "code",
   "execution_count": 104,
   "metadata": {},
   "outputs": [],
   "source": [
    "model = CIFAKE_CNN()\n",
    "\n",
    "# model = train(model, traindata, epochs=10)\n",
    "#epoch: 0\ttotal loss: 3117.363366410136\tavg loss: 0.5611815241062351\n",
    "#epoch: 1\ttotal loss: 2005.8685185052454\tavg loss: 0.3610924425752017\n",
    "# https://github.com/changzy00/pytorch-attention/tree/master"
   ]
  },
  {
   "cell_type": "code",
   "execution_count": 105,
   "metadata": {},
   "outputs": [],
   "source": [
    "# torch.save(model.state_dict(), config['model'])"
   ]
  },
  {
   "cell_type": "code",
   "execution_count": 106,
   "metadata": {},
   "outputs": [],
   "source": [
    "#?#https://github.com/EvgenyKashin/SRMnet/tree/master/models\n",
    "import torch\n",
    "from torch import nn\n",
    "# https://github.com/changzy00/pytorch-attention/blob/master/attention_mechanisms/srm.py\n",
    "# official sem : https://github.com/hyunjaelee410/style-based-recalibration-module/blob/master/models/resnet.py\n",
    "# https://blog.paperspace.com/srm-channel-attention/\n",
    "\n",
    "\n",
    "class SRMLayer(nn.Module):\n",
    "    def __init__(self, channel, reduction=None):\n",
    "        # Reduction for compatibility with layer_block interface\n",
    "        super(SRMLayer, self).__init__()\n",
    "\n",
    "        # CFC: channel-wise fully connected layer\n",
    "        self.cfc = nn.Conv1d(channel, channel, kernel_size=2, bias=False,\n",
    "                             groups=channel)\n",
    "        self.bn = nn.BatchNorm1d(channel)\n",
    "\n",
    "    def forward(self, x):\n",
    "        b, c, _, _ = x.size()\n",
    "\n",
    "        # Style pooling\n",
    "        mean = x.view(b, c, -1).mean(-1).unsqueeze(-1)\n",
    "        std = x.view(b, c, -1).std(-1).unsqueeze(-1)\n",
    "        u = torch.cat((mean, std), -1)  # (b, c, 2)\n",
    "\n",
    "        # Style integration\n",
    "        z = self.cfc(u)  # (b, c, 1)\n",
    "        z = self.bn(z)\n",
    "        g = torch.sigmoid(z)\n",
    "        g = g.view(b, c, 1, 1)\n",
    "\n",
    "        return x * g.expand_as(x)\n",
    "\n",
    "import torch.nn.functional as F\n",
    "\n",
    "class CIFAKE_CNN(nn.Module):\n",
    "    # from cifar10_tutorial.ipynb; so far only chaned fc3 final dim to 1\n",
    "    # for binary classification + added Sigmoid\n",
    "    def __init__(self):\n",
    "        super().__init__()\n",
    "        ## unroll to visualise used structure from class\n",
    "        # self.net = nn.Sequential(\n",
    "        #     nn.Conv2d(3, 6, 5),\n",
    "        #     nn.ReLU(),\n",
    "        #     nn.MaxPool2d(2, 2),\n",
    "        #      nn.Conv2d(6, 16, 5),\n",
    "        #     nn.ReLU(),\n",
    "        #     nn.MaxPool2d(2, 2),\n",
    "        #      nn.Flatten(),\n",
    "        #     nn.Linear(16 * 5 * 5, 120),\n",
    "        #     nn.ReLU(),\n",
    "        #     nn.Linear(120, 84),\n",
    "        #     nn.ReLU(),\n",
    "        #      nn.Linear(84, 10))\n",
    "\n",
    "        self.conv1 = nn.Conv2d(3, 6, 5)\n",
    "        self.pool = nn.MaxPool2d(2, 2)\n",
    "        self.attend = SRMLayer(6)\n",
    "        self.conv2 = nn.Conv2d(6, 16, 5)\n",
    "        self.fc1 = nn.Linear(16 * 5 * 5, 120)\n",
    "        self.fc2 = nn.Linear(120, 84)\n",
    "        self.fc3 = nn.Linear(84, 1)\n",
    "        self.sigmoid = nn.Sigmoid()\n",
    "\n",
    "\n",
    "    def forward(self, x):\n",
    "        #  out = self.net(x)\n",
    "        x = self.pool(F.relu(self.conv1(x)))\n",
    "      #  x = self.attend(x)\n",
    "        x = self.pool(F.relu(self.conv2(x)))\n",
    "        x = torch.flatten(x, 1)\n",
    "        x = F.relu(self.fc1(x))\n",
    "        x = F.relu(self.fc2(x))\n",
    "        x = self.fc3(x)\n",
    "        x = self.sigmoid(x)\n",
    "        return x"
   ]
  },
  {
   "cell_type": "code",
   "execution_count": 107,
   "metadata": {},
   "outputs": [],
   "source": [
    "\n",
    "import torch.optim as optim\n",
    "from tqdm.notebook import tqdm\n",
    "import numpy as np\n",
    "from sklearn.metrics import accuracy_score\n",
    "\n",
    "\n",
    "\n",
    "def acc_fcn(model, thresh=0.5):\n",
    "    gold, preds = list(), list()\n",
    "    n_batches = len(devdata)//devdata.batch_size\n",
    "    with torch.no_grad():\n",
    "        for batch in devdata:\n",
    "            X, y_true = batch\n",
    "            # calculate outputs by running images through the network\n",
    "            output = model(X).squeeze()\n",
    "            # Store true and predicted class labels\n",
    "            gold.extend(list(np.array(y_true)))\n",
    "            preds.extend(list(np.array(output)))\n",
    "    y_pred = [1 if pred >= thresh else 0 for pred in preds]\n",
    "    acc = accuracy_score(gold, y_pred)\n",
    "\n",
    "    return acc\n",
    "\n",
    "\n",
    "\n",
    "def trainz(model: CIFAKE_CNN, data: list[tuple], epochs: int = 5,\n",
    "          learn_rate: float = 0.001, momentum: float = 0.9) -> CIFAKE_CNN:\n",
    "    \"\"\"Train and return CNN for binary image classification.\n",
    "\n",
    "    Args:\n",
    "        model (CIFAKE_CNN): CNN model structure\n",
    "        data (list[tuple]): List of (filename, class label) items as str\n",
    "        epochs (int, optional): Number of epochs. Defaults to 5.\n",
    "        learn_rate (float, optional): Optimizer learn rate. Defaults to 0.001.\n",
    "        momentum (float, optional): Momentum for optimizer. Defaults to 0.9.\n",
    "\n",
    "    Returns:\n",
    "        CIFAKE_CNN: CNN model for binary image classification\n",
    "    \"\"\"\n",
    "    # own function, structure base from cifar10_tutorial.ipynb, but modified\n",
    "    # everthing but the running_loss usage\n",
    "    criterion = nn.BCELoss()  # match loss for binary classification\n",
    "    optimizer = optim.SGD(model.parameters(), lr=learn_rate, momentum=momentum)\n",
    "    n_batches=len(data)//data.batch_size  # determine nr of batches for pretty tqdm\n",
    "\n",
    "    accs = dict()\n",
    "    for epoch in range(epochs):\n",
    "        total_loss = 0 #change to dict, start logging, \n",
    "        running_loss = 0\n",
    "        for i, batch in tqdm(enumerate(data), total=n_batches):\n",
    "            # reset gradient\n",
    "            optimizer.zero_grad()\n",
    "\n",
    "            accs[i]  = acc_fcn(model)\n",
    "\n",
    "            # Extract input and labels, make predictions\n",
    "            X, y = batch\n",
    "            output = model(X)\n",
    "\n",
    "\n",
    "            # calculate & store loss\n",
    "            loss = criterion(output, y.reshape(-1, 1))  # reshape for single dim\n",
    "            running_loss += loss.item()\n",
    "            total_loss += loss.item()\n",
    "\n",
    "            # backpropagate & update gradient\n",
    "            loss.backward()\n",
    "            optimizer.step()\n",
    "\n",
    "            # print statistics\n",
    "            if i % (n_batches//4) == (n_batches//4)-1:\n",
    "                print(f'[{epoch+1}, {i+1:5d}] avg loss: {running_loss/(n_batches//4):.3f}',\n",
    "                      end='\\r')  # kept from class notebook, udpated with n_batches\n",
    "                running_loss = 0.0\n",
    "\n",
    "        print(f'\\repoch: {epoch}\\ttotal loss: {total_loss}\\tavg loss: {total_loss/n_batches}')\n",
    "        break\n",
    "    print('Finished Training')\n",
    "\n",
    "    return model, accs\n"
   ]
  },
  {
   "cell_type": "code",
   "execution_count": null,
   "metadata": {},
   "outputs": [
    {
     "data": {
      "application/json": {
       "ascii": false,
       "bar_format": null,
       "colour": null,
       "elapsed": 0.005810976028442383,
       "initial": 0,
       "n": 0,
       "ncols": null,
       "nrows": null,
       "postfix": null,
       "prefix": "",
       "rate": null,
       "total": 3046,
       "unit": "it",
       "unit_divisor": 1000,
       "unit_scale": false
      },
      "application/vnd.jupyter.widget-view+json": {
       "model_id": "c0a13f1c524b4083a577a290faeab527",
       "version_major": 2,
       "version_minor": 0
      },
      "text/plain": [
       "  0%|          | 0/3046 [00:00<?, ?it/s]"
      ]
     },
     "metadata": {},
     "output_type": "display_data"
    },
    {
     "name": "stdout",
     "output_type": "stream",
     "text": [
      "415 [('../data/CIFAKE/train/REAL/3231 (7).jpg', 'REAL'), ('../data/CIFAKE/train/FAKE/5972 (5).jpg', 'FAKE'), ('../data/CIFAKE/train/REAL/1632.jpg', 'REAL'), ('../data/CIFAKE/train/FAKE/1379 (8).jpg', 'FAKE'), ('../data/CIFAKE/train/REAL/4519 (9).jpg', 'REAL'), ('../data/CIFAKE/train/REAL/0159.jpg', 'REAL'), ('../data/CIFAKE/train/REAL/1973 (6).jpg', 'REAL'), ('../data/CIFAKE/train/FAKE/4156 (8).jpg', 'FAKE'), ('../data/CIFAKE/train/REAL/4650 (7).jpg', 'REAL'), ('../data/CIFAKE/train/REAL/3996.jpg', 'REAL'), ('../data/CIFAKE/train/FAKE/2638 (6).jpg', 'FAKE'), ('../data/CIFAKE/train/FAKE/1077.jpg', 'FAKE'), ('../data/CIFAKE/train/REAL/2166 (3).jpg', 'REAL'), ('../data/CIFAKE/train/FAKE/2535 (4).jpg', 'FAKE'), ('../data/CIFAKE/train/REAL/0594 (5).jpg', 'REAL'), ('../data/CIFAKE/train/REAL/2698 (6).jpg', 'REAL'), ('../data/CIFAKE/train/REAL/1915 (8).jpg', 'REAL'), ('../data/CIFAKE/train/FAKE/4943 (10).jpg', 'FAKE'), ('../data/CIFAKE/train/REAL/4162 (4).jpg', 'REAL'), ('../data/CIFAKE/train/FAKE/5242 (3).jpg', 'FAKE'), ('../data/CIFAKE/train/REAL/3562 (5).jpg', 'REAL'), ('../data/CIFAKE/train/REAL/0369 (6).jpg', 'REAL'), ('../data/CIFAKE/train/FAKE/5856 (4).jpg', 'FAKE'), ('../data/CIFAKE/train/REAL/3507 (2).jpg', 'REAL'), ('../data/CIFAKE/train/FAKE/4917 (8).jpg', 'FAKE'), ('../data/CIFAKE/train/FAKE/1973 (3).jpg', 'FAKE'), ('../data/CIFAKE/train/FAKE/4345 (9).jpg', 'FAKE'), ('../data/CIFAKE/train/FAKE/1445 (3).jpg', 'FAKE'), ('../data/CIFAKE/train/REAL/0442 (6).jpg', 'REAL'), ('../data/CIFAKE/train/REAL/2964.jpg', 'REAL'), ('../data/CIFAKE/train/FAKE/1520 (7).jpg', 'FAKE'), ('../data/CIFAKE/train/REAL/1068 (2).jpg', 'REAL')]\n"
     ]
    }
   ],
   "source": [
    "\n",
    "model = CIFAKE_CNN()\n",
    "model, accs = trainz(model, traindata, epochs=1)\n"
   ]
  },
  {
   "cell_type": "code",
   "execution_count": 83,
   "metadata": {},
   "outputs": [
    {
     "data": {
      "text/plain": [
       "{0: 0.44443456614509247}"
      ]
     },
     "execution_count": 83,
     "metadata": {},
     "output_type": "execute_result"
    }
   ],
   "source": [
    "accs"
   ]
  },
  {
   "cell_type": "code",
   "execution_count": 43,
   "metadata": {},
   "outputs": [],
   "source": [
    "#https://github.com/EvgenyKashin/SRMnet/tree/master/models"
   ]
  },
  {
   "cell_type": "markdown",
   "metadata": {},
   "source": []
  },
  {
   "cell_type": "markdown",
   "metadata": {},
   "source": [
    "## Testing"
   ]
  },
  {
   "cell_type": "code",
   "execution_count": 66,
   "metadata": {},
   "outputs": [],
   "source": [
    "# load data\n",
    "testdata = CIFAKE_loader(testfiles, batch_size=18)"
   ]
  },
  {
   "cell_type": "code",
   "execution_count": 67,
   "metadata": {},
   "outputs": [
    {
     "data": {
      "application/json": {
       "ascii": false,
       "bar_format": null,
       "colour": null,
       "elapsed": 0.007017850875854492,
       "initial": 0,
       "n": 0,
       "ncols": null,
       "nrows": null,
       "postfix": null,
       "prefix": "",
       "rate": null,
       "total": 1111,
       "unit": "it",
       "unit_divisor": 1000,
       "unit_scale": false
      },
      "application/vnd.jupyter.widget-view+json": {
       "model_id": "4be20979a63a4154ae0133cff902a2bb",
       "version_major": 2,
       "version_minor": 0
      },
      "text/plain": [
       "  0%|          | 0/1111 [00:00<?, ?it/s]"
      ]
     },
     "metadata": {},
     "output_type": "display_data"
    },
    {
     "name": "stderr",
     "output_type": "stream",
     "text": [
      "/Library/Frameworks/Python.framework/Versions/3.10/lib/python3.10/site-packages/sklearn/metrics/_classification.py:1531: UndefinedMetricWarning: Precision is ill-defined and being set to 0.0 due to no predicted samples. Use `zero_division` parameter to control this behavior.\n",
      "  _warn_prf(average, modifier, f\"{metric.capitalize()} is\", len(result))\n",
      "/Library/Frameworks/Python.framework/Versions/3.10/lib/python3.10/site-packages/sklearn/metrics/_classification.py:1531: UndefinedMetricWarning: Precision is ill-defined and being set to 0.0 due to no predicted samples. Use `zero_division` parameter to control this behavior.\n",
      "  _warn_prf(average, modifier, f\"{metric.capitalize()} is\", len(result))\n",
      "/Library/Frameworks/Python.framework/Versions/3.10/lib/python3.10/site-packages/sklearn/metrics/_classification.py:1531: UndefinedMetricWarning: Precision is ill-defined and being set to 0.0 due to no predicted samples. Use `zero_division` parameter to control this behavior.\n",
      "  _warn_prf(average, modifier, f\"{metric.capitalize()} is\", len(result))\n",
      "/Library/Frameworks/Python.framework/Versions/3.10/lib/python3.10/site-packages/sklearn/metrics/_classification.py:1531: UndefinedMetricWarning: Precision is ill-defined and being set to 0.0 due to no predicted samples. Use `zero_division` parameter to control this behavior.\n",
      "  _warn_prf(average, modifier, f\"{metric.capitalize()} is\", len(result))\n",
      "/Library/Frameworks/Python.framework/Versions/3.10/lib/python3.10/site-packages/sklearn/metrics/_classification.py:1531: UndefinedMetricWarning: Precision is ill-defined and being set to 0.0 due to no predicted samples. Use `zero_division` parameter to control this behavior.\n",
      "  _warn_prf(average, modifier, f\"{metric.capitalize()} is\", len(result))\n",
      "/Library/Frameworks/Python.framework/Versions/3.10/lib/python3.10/site-packages/sklearn/metrics/_classification.py:1531: UndefinedMetricWarning: Precision is ill-defined and being set to 0.0 due to no predicted samples. Use `zero_division` parameter to control this behavior.\n",
      "  _warn_prf(average, modifier, f\"{metric.capitalize()} is\", len(result))\n",
      "/Library/Frameworks/Python.framework/Versions/3.10/lib/python3.10/site-packages/sklearn/metrics/_classification.py:1531: UndefinedMetricWarning: Precision is ill-defined and being set to 0.0 due to no predicted samples. Use `zero_division` parameter to control this behavior.\n",
      "  _warn_prf(average, modifier, f\"{metric.capitalize()} is\", len(result))\n",
      "/Library/Frameworks/Python.framework/Versions/3.10/lib/python3.10/site-packages/sklearn/metrics/_classification.py:1531: UndefinedMetricWarning: Precision is ill-defined and being set to 0.0 due to no predicted samples. Use `zero_division` parameter to control this behavior.\n",
      "  _warn_prf(average, modifier, f\"{metric.capitalize()} is\", len(result))\n",
      "/Library/Frameworks/Python.framework/Versions/3.10/lib/python3.10/site-packages/sklearn/metrics/_classification.py:1531: UndefinedMetricWarning: Precision is ill-defined and being set to 0.0 due to no predicted samples. Use `zero_division` parameter to control this behavior.\n",
      "  _warn_prf(average, modifier, f\"{metric.capitalize()} is\", len(result))\n",
      "/Library/Frameworks/Python.framework/Versions/3.10/lib/python3.10/site-packages/sklearn/metrics/_classification.py:1531: UndefinedMetricWarning: Precision is ill-defined and being set to 0.0 due to no predicted samples. Use `zero_division` parameter to control this behavior.\n",
      "  _warn_prf(average, modifier, f\"{metric.capitalize()} is\", len(result))\n",
      "/Library/Frameworks/Python.framework/Versions/3.10/lib/python3.10/site-packages/sklearn/metrics/_classification.py:1531: UndefinedMetricWarning: Precision is ill-defined and being set to 0.0 due to no predicted samples. Use `zero_division` parameter to control this behavior.\n",
      "  _warn_prf(average, modifier, f\"{metric.capitalize()} is\", len(result))\n",
      "/Library/Frameworks/Python.framework/Versions/3.10/lib/python3.10/site-packages/sklearn/metrics/_classification.py:1531: UndefinedMetricWarning: Precision is ill-defined and being set to 0.0 due to no predicted samples. Use `zero_division` parameter to control this behavior.\n",
      "  _warn_prf(average, modifier, f\"{metric.capitalize()} is\", len(result))\n",
      "/Library/Frameworks/Python.framework/Versions/3.10/lib/python3.10/site-packages/sklearn/metrics/_classification.py:1531: UndefinedMetricWarning: Precision is ill-defined and being set to 0.0 due to no predicted samples. Use `zero_division` parameter to control this behavior.\n",
      "  _warn_prf(average, modifier, f\"{metric.capitalize()} is\", len(result))\n",
      "/Library/Frameworks/Python.framework/Versions/3.10/lib/python3.10/site-packages/sklearn/metrics/_classification.py:1531: UndefinedMetricWarning: Precision is ill-defined and being set to 0.0 due to no predicted samples. Use `zero_division` parameter to control this behavior.\n",
      "  _warn_prf(average, modifier, f\"{metric.capitalize()} is\", len(result))\n",
      "/Library/Frameworks/Python.framework/Versions/3.10/lib/python3.10/site-packages/sklearn/metrics/_classification.py:1531: UndefinedMetricWarning: Precision is ill-defined and being set to 0.0 due to no predicted samples. Use `zero_division` parameter to control this behavior.\n",
      "  _warn_prf(average, modifier, f\"{metric.capitalize()} is\", len(result))\n",
      "/Library/Frameworks/Python.framework/Versions/3.10/lib/python3.10/site-packages/sklearn/metrics/_classification.py:1531: UndefinedMetricWarning: Precision is ill-defined and being set to 0.0 due to no predicted samples. Use `zero_division` parameter to control this behavior.\n",
      "  _warn_prf(average, modifier, f\"{metric.capitalize()} is\", len(result))\n"
     ]
    },
    {
     "data": {
      "image/png": "[encoded data removed]",
      "text/plain": [
       "<Figure size 640x480 with 1 Axes>"
      ]
     },
     "metadata": {},
     "output_type": "display_data"
    }
   ],
   "source": [
    "# mini train \n",
    "mini_gold, mini_preds = test_model(model, testdata)\n",
    "mini_thresh_data = {}\n",
    "for i in range(1, 10):\n",
    "    thresh = round(i/10, 2)\n",
    "    mini_thresh_data[thresh] = {metric: score_preds(mini_gold, mini_preds, thresh=thresh)[i]\n",
    "                           for i, metric in enumerate(['Accuracy', 'Precision',\n",
    "                                                       'Recall', 'F1-Score'])}\n",
    "import pandas as pd\n",
    "import matplotlib.pyplot as plt\n",
    "\n",
    "mini_df = pd.DataFrame(mini_thresh_data.values(), index=mini_thresh_data.keys()).mul(100)\n",
    "fig = mini_df.plot()\n",
    "\n",
    "fig.set_ylabel('Score %')\n",
    "fig.set_xlabel('Decision threshold value')\n",
    "fig.title.set_text('Effect of decision threshold size on evaluation metrics')\n",
    "fig.legend(loc='lower center')\n",
    "plt.show()"
   ]
  },
  {
   "cell_type": "code",
   "execution_count": 68,
   "metadata": {},
   "outputs": [
    {
     "data": {
      "text/html": [
       "<div>\n",
       "<style scoped>\n",
       "    .dataframe tbody tr th:only-of-type {\n",
       "        vertical-align: middle;\n",
       "    }\n",
       "\n",
       "    .dataframe tbody tr th {\n",
       "        vertical-align: top;\n",
       "    }\n",
       "\n",
       "    .dataframe thead th {\n",
       "        text-align: right;\n",
       "    }\n",
       "</style>\n",
       "<table border=\"1\" class=\"dataframe\">\n",
       "  <thead>\n",
       "    <tr style=\"text-align: right;\">\n",
       "      <th></th>\n",
       "      <th>Accuracy</th>\n",
       "      <th>Precision</th>\n",
       "      <th>Recall</th>\n",
       "      <th>F1-Score</th>\n",
       "    </tr>\n",
       "  </thead>\n",
       "  <tbody>\n",
       "    <tr>\n",
       "      <th>0.1</th>\n",
       "      <td>49.994999</td>\n",
       "      <td>49.994999</td>\n",
       "      <td>100.0</td>\n",
       "      <td>66.662222</td>\n",
       "    </tr>\n",
       "    <tr>\n",
       "      <th>0.2</th>\n",
       "      <td>49.994999</td>\n",
       "      <td>49.994999</td>\n",
       "      <td>100.0</td>\n",
       "      <td>66.662222</td>\n",
       "    </tr>\n",
       "    <tr>\n",
       "      <th>0.3</th>\n",
       "      <td>49.994999</td>\n",
       "      <td>49.994999</td>\n",
       "      <td>100.0</td>\n",
       "      <td>66.662222</td>\n",
       "    </tr>\n",
       "    <tr>\n",
       "      <th>0.4</th>\n",
       "      <td>49.994999</td>\n",
       "      <td>49.994999</td>\n",
       "      <td>100.0</td>\n",
       "      <td>66.662222</td>\n",
       "    </tr>\n",
       "    <tr>\n",
       "      <th>0.5</th>\n",
       "      <td>49.994999</td>\n",
       "      <td>49.994999</td>\n",
       "      <td>100.0</td>\n",
       "      <td>66.662222</td>\n",
       "    </tr>\n",
       "    <tr>\n",
       "      <th>0.6</th>\n",
       "      <td>50.005001</td>\n",
       "      <td>0.000000</td>\n",
       "      <td>0.0</td>\n",
       "      <td>0.000000</td>\n",
       "    </tr>\n",
       "    <tr>\n",
       "      <th>0.7</th>\n",
       "      <td>50.005001</td>\n",
       "      <td>0.000000</td>\n",
       "      <td>0.0</td>\n",
       "      <td>0.000000</td>\n",
       "    </tr>\n",
       "    <tr>\n",
       "      <th>0.8</th>\n",
       "      <td>50.005001</td>\n",
       "      <td>0.000000</td>\n",
       "      <td>0.0</td>\n",
       "      <td>0.000000</td>\n",
       "    </tr>\n",
       "    <tr>\n",
       "      <th>0.9</th>\n",
       "      <td>50.005001</td>\n",
       "      <td>0.000000</td>\n",
       "      <td>0.0</td>\n",
       "      <td>0.000000</td>\n",
       "    </tr>\n",
       "  </tbody>\n",
       "</table>\n",
       "</div>"
      ],
      "text/plain": [
       "      Accuracy  Precision  Recall   F1-Score\n",
       "0.1  49.994999  49.994999   100.0  66.662222\n",
       "0.2  49.994999  49.994999   100.0  66.662222\n",
       "0.3  49.994999  49.994999   100.0  66.662222\n",
       "0.4  49.994999  49.994999   100.0  66.662222\n",
       "0.5  49.994999  49.994999   100.0  66.662222\n",
       "0.6  50.005001   0.000000     0.0   0.000000\n",
       "0.7  50.005001   0.000000     0.0   0.000000\n",
       "0.8  50.005001   0.000000     0.0   0.000000\n",
       "0.9  50.005001   0.000000     0.0   0.000000"
      ]
     },
     "execution_count": 68,
     "metadata": {},
     "output_type": "execute_result"
    }
   ],
   "source": [
    "mini_df"
   ]
  },
  {
   "cell_type": "code",
   "execution_count": 58,
   "metadata": {},
   "outputs": [],
   "source": [
    "# # load model\n",
    "# model = CIFAKE_CNN()\n",
    "# model.load_state_dict(torch.load(config['model']))"
   ]
  },
  {
   "cell_type": "code",
   "execution_count": 59,
   "metadata": {},
   "outputs": [
    {
     "data": {
      "application/json": {
       "ascii": false,
       "bar_format": null,
       "colour": null,
       "elapsed": 0.032286882400512695,
       "initial": 0,
       "n": 0,
       "ncols": null,
       "nrows": null,
       "postfix": null,
       "prefix": "",
       "rate": null,
       "total": 1111,
       "unit": "it",
       "unit_divisor": 1000,
       "unit_scale": false
      },
      "application/vnd.jupyter.widget-view+json": {
       "model_id": "451c1fb734424e43802cf1721c321fdb",
       "version_major": 2,
       "version_minor": 0
      },
      "text/plain": [
       "  0%|          | 0/1111 [00:00<?, ?it/s]"
      ]
     },
     "metadata": {},
     "output_type": "display_data"
    }
   ],
   "source": [
    "# predict labels & evaluate with accuracy, precision, recall, f1-score\n",
    "gold, preds = test_model(model, testdata)"
   ]
  },
  {
   "cell_type": "code",
   "execution_count": 60,
   "metadata": {},
   "outputs": [],
   "source": [
    "thresh_data = {}\n",
    "for i in range(1, 10):\n",
    "    thresh = round(i/10, 2)\n",
    "    thresh_data[thresh] = {metric: score_preds(gold, preds, thresh=thresh)[i]\n",
    "                           for i, metric in enumerate(['Accuracy', 'Precision',\n",
    "                                                       'Recall', 'F1-Score'])}"
   ]
  },
  {
   "cell_type": "code",
   "execution_count": 61,
   "metadata": {},
   "outputs": [
    {
     "data": {
      "image/png": "[encoded data removed]",
      "text/plain": [
       "<Figure size 640x480 with 1 Axes>"
      ]
     },
     "metadata": {},
     "output_type": "display_data"
    }
   ],
   "source": [
    "import pandas as pd\n",
    "import matplotlib.pyplot as plt\n",
    "\n",
    "df = pd.DataFrame(thresh_data.values(), index=thresh_data.keys()).mul(100)\n",
    "fig = df.plot()\n",
    "\n",
    "fig.set_ylabel('Score %')\n",
    "fig.set_xlabel('Decision threshold value')\n",
    "fig.title.set_text('Effect of decision threshold size on evaluation metrics')\n",
    "fig.legend(loc='lower center')\n",
    "plt.show()"
   ]
  },
  {
   "cell_type": "code",
   "execution_count": 62,
   "metadata": {},
   "outputs": [
    {
     "data": {
      "text/html": [
       "<div>\n",
       "<style scoped>\n",
       "    .dataframe tbody tr th:only-of-type {\n",
       "        vertical-align: middle;\n",
       "    }\n",
       "\n",
       "    .dataframe tbody tr th {\n",
       "        vertical-align: top;\n",
       "    }\n",
       "\n",
       "    .dataframe thead th {\n",
       "        text-align: right;\n",
       "    }\n",
       "</style>\n",
       "<table border=\"1\" class=\"dataframe\">\n",
       "  <thead>\n",
       "    <tr style=\"text-align: right;\">\n",
       "      <th></th>\n",
       "      <th>Accuracy</th>\n",
       "      <th>Precision</th>\n",
       "      <th>Recall</th>\n",
       "      <th>F1-Score</th>\n",
       "    </tr>\n",
       "  </thead>\n",
       "  <tbody>\n",
       "    <tr>\n",
       "      <th>0.1</th>\n",
       "      <td>86.573657</td>\n",
       "      <td>79.744570</td>\n",
       "      <td>98.049610</td>\n",
       "      <td>87.954780</td>\n",
       "    </tr>\n",
       "    <tr>\n",
       "      <th>0.2</th>\n",
       "      <td>89.173917</td>\n",
       "      <td>83.841701</td>\n",
       "      <td>97.049410</td>\n",
       "      <td>89.963377</td>\n",
       "    </tr>\n",
       "    <tr>\n",
       "      <th>0.3</th>\n",
       "      <td>90.519052</td>\n",
       "      <td>86.299283</td>\n",
       "      <td>96.329266</td>\n",
       "      <td>91.038851</td>\n",
       "    </tr>\n",
       "    <tr>\n",
       "      <th>0.4</th>\n",
       "      <td>91.314131</td>\n",
       "      <td>88.164095</td>\n",
       "      <td>95.439088</td>\n",
       "      <td>91.657461</td>\n",
       "    </tr>\n",
       "    <tr>\n",
       "      <th>0.5</th>\n",
       "      <td>91.909191</td>\n",
       "      <td>89.912364</td>\n",
       "      <td>94.408882</td>\n",
       "      <td>92.105777</td>\n",
       "    </tr>\n",
       "    <tr>\n",
       "      <th>0.6</th>\n",
       "      <td>92.194219</td>\n",
       "      <td>91.289028</td>\n",
       "      <td>93.288658</td>\n",
       "      <td>92.278011</td>\n",
       "    </tr>\n",
       "    <tr>\n",
       "      <th>0.7</th>\n",
       "      <td>92.364236</td>\n",
       "      <td>92.683664</td>\n",
       "      <td>91.988398</td>\n",
       "      <td>92.334722</td>\n",
       "    </tr>\n",
       "    <tr>\n",
       "      <th>0.8</th>\n",
       "      <td>92.229223</td>\n",
       "      <td>94.181666</td>\n",
       "      <td>90.018004</td>\n",
       "      <td>92.052777</td>\n",
       "    </tr>\n",
       "    <tr>\n",
       "      <th>0.9</th>\n",
       "      <td>91.184118</td>\n",
       "      <td>96.021013</td>\n",
       "      <td>85.927185</td>\n",
       "      <td>90.694115</td>\n",
       "    </tr>\n",
       "  </tbody>\n",
       "</table>\n",
       "</div>"
      ],
      "text/plain": [
       "      Accuracy  Precision     Recall   F1-Score\n",
       "0.1  86.573657  79.744570  98.049610  87.954780\n",
       "0.2  89.173917  83.841701  97.049410  89.963377\n",
       "0.3  90.519052  86.299283  96.329266  91.038851\n",
       "0.4  91.314131  88.164095  95.439088  91.657461\n",
       "0.5  91.909191  89.912364  94.408882  92.105777\n",
       "0.6  92.194219  91.289028  93.288658  92.278011\n",
       "0.7  92.364236  92.683664  91.988398  92.334722\n",
       "0.8  92.229223  94.181666  90.018004  92.052777\n",
       "0.9  91.184118  96.021013  85.927185  90.694115"
      ]
     },
     "execution_count": 62,
     "metadata": {},
     "output_type": "execute_result"
    }
   ],
   "source": [
    "df"
   ]
  },
  {
   "cell_type": "code",
   "execution_count": null,
   "metadata": {},
   "outputs": [],
   "source": [
    "# plot trainig acc vs val accuracy vs loss..."
   ]
  },
  {
   "cell_type": "code",
   "execution_count": null,
   "metadata": {},
   "outputs": [],
   "source": []
  }
 ],
 "metadata": {
  "kernelspec": {
   "display_name": "Python 3",
   "language": "python",
   "name": "python3"
  },
  "language_info": {
   "codemirror_mode": {
    "name": "ipython",
    "version": 3
   },
   "file_extension": ".py",
   "mimetype": "text/x-python",
   "name": "python",
   "nbconvert_exporter": "python",
   "pygments_lexer": "ipython3",
   "version": "3.10.0"
  }
 },
 "nbformat": 4,
 "nbformat_minor": 2
}
