{
 "cells": [
  {
   "cell_type": "markdown",
   "metadata": {},
   "source": [
    "# CIFAR100 transfer\n",
    "Exploring applicability of models trained on CIFAKE for 'real' images"
   ]
  },
  {
   "cell_type": "code",
   "execution_count": 1,
   "metadata": {},
   "outputs": [
    {
     "name": "stderr",
     "output_type": "stream",
     "text": [
      "/Library/Frameworks/Python.framework/Versions/3.10/lib/python3.10/site-packages/torchvision/io/image.py:13: UserWarning: Failed to load image Python extension: 'dlopen(/Library/Frameworks/Python.framework/Versions/3.10/lib/python3.10/site-packages/torchvision/image.so, 0x0006): Symbol not found: __ZN3c1017RegisterOperatorsD1Ev\n",
      "  Referenced from: <EA7F9DF5-8854-31D8-89D4-BD566CAF4DEA> /Library/Frameworks/Python.framework/Versions/3.10/lib/python3.10/site-packages/torchvision/image.so\n",
      "  Expected in:     <03BFC270-EF54-36FC-B102-371F5164D3C9> /Library/Frameworks/Python.framework/Versions/3.10/lib/python3.10/site-packages/torch/lib/libtorch_cpu.dylib'If you don't plan on using image functionality from `torchvision.io`, you can ignore this warning. Otherwise, there might be something wrong with your environment. Did you have `libjpeg` or `libpng` installed before building `torchvision` from source?\n",
      "  warn(\n"
     ]
    },
    {
     "name": "stdout",
     "output_type": "stream",
     "text": [
      "Running...\n",
      "Running...\n"
     ]
    }
   ],
   "source": [
    "import torch\n",
    "import numpy as np\n",
    "import json \n",
    "\n",
    "from classes import CI_LOADER, CIFAKE_CNN\n",
    "from test import test_model, test_thresh_size, visualise, score_content_preds\n",
    "\n",
    "with open('./config.json') as f:\n",
    "    config = json.load(f)"
   ]
  },
  {
   "cell_type": "code",
   "execution_count": 2,
   "metadata": {},
   "outputs": [],
   "source": [
    "def find_extrema(df):\n",
    "    return df.loc[[df.idxmax()[0]]], df.loc[[df.idxmin()[0]]]"
   ]
  },
  {
   "cell_type": "markdown",
   "metadata": {},
   "source": [
    "### Data loading"
   ]
  },
  {
   "cell_type": "code",
   "execution_count": 3,
   "metadata": {},
   "outputs": [],
   "source": [
    "# The CIFAR-100 dataset consists of 60000 32x32 colour images in 100 classes,\n",
    "# with 600 images per class. The 100 classes in the CIFAR-100 are grouped\n",
    "# into 20 superclasses. Each image comes with a \"fine\" label (the class to\n",
    "# which it belongs) and a \"coarse\" label (the superclass to which it belongs).\n",
    "# There are 50000 training images and 10000 test images.\n",
    "# The meta file contains the label names of each class and superclass.\n",
    "\n",
    "# #https://www.kaggle.com/datasets/fedesoriano/cifar100?resource=download"
   ]
  },
  {
   "cell_type": "code",
   "execution_count": 4,
   "metadata": {},
   "outputs": [],
   "source": [
    "# classes = \"beaver\", \"dolphin\", \"otter\", \"seal\", \"whale\",\n",
    "# \"aquarium\", \"fish\", \"flatfish\", \"ray\", \"shark\", \"trout\"\n",
    "# 11-15) orchids, poppies, roses, sunflowers, tulips\n",
    "# 16-20) bottles, bowls, cans, cups, plates\n",
    "# 21-25) apples, mushrooms, oranges, pears, sweet peppers\n",
    "# 26-30) clock, computer keyboard, lamp, telephone, television\n",
    "# 31-35) bed, chair, couch, table, wardrobe\n",
    "# 36-40) bee, beetle, butterfly, caterpillar, cockroach\n",
    "# 41-45) bear, leopard, lion, tiger, wolf\n",
    "# 46-50) bridge, castle, house, road, skyscraper\n",
    "# 51-55) cloud, forest, mountain, plain, sea\n",
    "# 56-60) camel, cattle, chimpanzee, elephant, kangaroo\n",
    "# 61-65) fox, porcupine, possum, raccoon, skunk\n",
    "# 66-70) crab, lobster, snail, spider, worm\n",
    "# 71-75) baby, boy, girl, man, woman\n",
    "# 76-80) crocodile, dinosaur, lizard, snake, turtle\n",
    "# 81-85) hamster, mouse, rabbit, shrew, squirrel\n",
    "# 86-90) maple, oak, palm, pine, willow\n",
    "# 91-95) bicycle, bus, motorcycle, pickup truck, train\n",
    "# 96-100) lawn-mower, rocket, streetcar, tank, tractor"
   ]
  },
  {
   "cell_type": "code",
   "execution_count": 5,
   "metadata": {},
   "outputs": [],
   "source": [
    "def unpickle_cifar100(file):\n",
    "    import pickle\n",
    "    with open(file, 'rb') as fo:\n",
    "        dict = pickle.load(fo, encoding='bytes')\n",
    "    return dict\n",
    "\n",
    "metadata_path = '../data/CIFAR100/meta' # change this path`\\\n",
    "metadata = unpickle_cifar100(metadata_path)\n",
    "superclass_dict = dict(list(enumerate(metadata[b'coarse_label_names'])))\n",
    "class_dict = dict(list(enumerate(metadata[b'fine_label_names'])))\n"
   ]
  },
  {
   "cell_type": "code",
   "execution_count": 6,
   "metadata": {},
   "outputs": [],
   "source": [
    "# loading from kaggel datacard https://www.kaggle.com/datasets/fedesoriano/cifar100/data\n",
    "data_pre_path = '../data/CIFAR100/' # change this path\n",
    "# File paths\n",
    "data_train_path = data_pre_path + 'train'\n",
    "data_test_path = data_pre_path + 'test'\n",
    "# Read dictionary\n",
    "data_train_dict = unpickle_cifar100(data_train_path)\n",
    "data_test_dict = unpickle_cifar100(data_test_path)\n",
    "# Get data (change the coarse_labels if you want to use the 100 classes)\n",
    "data_train = data_train_dict[b'data']\n",
    "label_train = np.array(np.array([data_train_dict[b'coarse_labels'], data_train_dict[b'fine_labels']]))\n",
    "\n",
    "\n",
    "data_test = data_test_dict[b'data']\n",
    "label_test = np.array(data_test_dict[b'coarse_labels'])\n",
    "label_test_fine = np.array(data_test_dict[b'fine_labels'])\n"
   ]
  },
  {
   "cell_type": "code",
   "execution_count": 7,
   "metadata": {},
   "outputs": [],
   "source": [
    "# import matplotlib.pyplot as plt\n",
    "# plt.imshow((data_train[0]/255).reshape(3,32,32).transpose(1,2,0))"
   ]
  },
  {
   "cell_type": "code",
   "execution_count": 8,
   "metadata": {},
   "outputs": [
    {
     "data": {
      "text/plain": [
       "{0: b'aquatic_mammals',\n",
       " 1: b'fish',\n",
       " 2: b'flowers',\n",
       " 3: b'food_containers',\n",
       " 4: b'fruit_and_vegetables',\n",
       " 5: b'household_electrical_devices',\n",
       " 6: b'household_furniture',\n",
       " 7: b'insects',\n",
       " 8: b'large_carnivores',\n",
       " 9: b'large_man-made_outdoor_things',\n",
       " 10: b'large_natural_outdoor_scenes',\n",
       " 11: b'large_omnivores_and_herbivores',\n",
       " 12: b'medium_mammals',\n",
       " 13: b'non-insect_invertebrates',\n",
       " 14: b'people',\n",
       " 15: b'reptiles',\n",
       " 16: b'small_mammals',\n",
       " 17: b'trees',\n",
       " 18: b'vehicles_1',\n",
       " 19: b'vehicles_2'}"
      ]
     },
     "execution_count": 8,
     "metadata": {},
     "output_type": "execute_result"
    }
   ],
   "source": [
    "superclass_dict"
   ]
  },
  {
   "cell_type": "code",
   "execution_count": 9,
   "metadata": {},
   "outputs": [],
   "source": [
    "## cf cifar10\n",
    "# classes = ('plane', 'car', 'bird', 'cat',\n",
    "#            'deer', 'dog', 'frog', 'horse', 'ship', 'truck')"
   ]
  },
  {
   "cell_type": "code",
   "execution_count": 10,
   "metadata": {},
   "outputs": [],
   "source": [
    "# from classes import CIFAKE_loader\n",
    "testdata = CI_LOADER(list(zip(data_test, label_test)), source='CIFAR100')\n",
    "testdata_fine = CI_LOADER(list(zip(data_test, label_test_fine)), source='CIFAR100')"
   ]
  },
  {
   "cell_type": "markdown",
   "metadata": {},
   "source": [
    "### Testing base model"
   ]
  },
  {
   "cell_type": "code",
   "execution_count": 15,
   "metadata": {},
   "outputs": [
    {
     "data": {
      "text/plain": [
       "<All keys matched successfully>"
      ]
     },
     "execution_count": 15,
     "metadata": {},
     "output_type": "execute_result"
    }
   ],
   "source": [
    "# load model, test on test set\n",
    "model = CIFAKE_CNN()\n",
    "model.load_state_dict(torch.load(config['basemodel']))"
   ]
  },
  {
   "cell_type": "code",
   "execution_count": 16,
   "metadata": {},
   "outputs": [
    {
     "data": {
      "application/json": {
       "ascii": false,
       "bar_format": null,
       "colour": null,
       "elapsed": 0.06200408935546875,
       "initial": 0,
       "n": 0,
       "ncols": null,
       "nrows": null,
       "postfix": null,
       "prefix": "",
       "rate": null,
       "total": 312,
       "unit": "it",
       "unit_divisor": 1000,
       "unit_scale": false
      },
      "application/vnd.jupyter.widget-view+json": {
       "model_id": "e780d01d43134340be2c4d4e0abfb353",
       "version_major": 2,
       "version_minor": 0
      },
      "text/plain": [
       "  0%|          | 0/312 [00:00<?, ?it/s]"
      ]
     },
     "metadata": {},
     "output_type": "display_data"
    },
    {
     "name": "stdout",
     "output_type": "stream",
     "text": [
      "\n",
      "Performance (n=9952 test imgs, decision threshold=0.5)\n",
      "Overall accuracy: 95.46%\n",
      "\n",
      "                                     recall\n",
      "b'aquatic_mammals'                 0.955823\n",
      "b'fish'                            0.977867\n",
      "b'flowers'                         0.937500\n",
      "b'food_containers'                 0.955823\n",
      "b'fruit_and_vegetables'            0.965726\n",
      "b'household_electrical_devices'    0.923695\n",
      "b'household_furniture'             0.971774\n",
      "b'insects'                         0.905622\n",
      "b'large_carnivores'                0.961771\n",
      "b'large_man-made_outdoor_things'   0.967936\n",
      "b'large_natural_outdoor_scenes'    0.929435\n",
      "b'large_omnivores_and_herbivores'  0.965863\n",
      "b'medium_mammals'                  0.971831\n",
      "b'non-insect_invertebrates'        0.947791\n",
      "b'people'                          0.943662\n",
      "b'reptiles'                        0.961924\n",
      "b'small_mammals'                   0.977956\n",
      "b'trees'                           0.977912\n",
      "b'vehicles_1'                      0.943775\n",
      "b'vehicles_2'                      0.947896\n"
     ]
    }
   ],
   "source": [
    "gold, preds = test_model(model, testdata)\n",
    "acc, eval = score_content_preds(gold, preds, superclass_dict)"
   ]
  },
  {
   "cell_type": "code",
   "execution_count": 17,
   "metadata": {},
   "outputs": [
    {
     "data": {
      "text/html": [
       "<div>\n",
       "<style scoped>\n",
       "    .dataframe tbody tr th:only-of-type {\n",
       "        vertical-align: middle;\n",
       "    }\n",
       "\n",
       "    .dataframe tbody tr th {\n",
       "        vertical-align: top;\n",
       "    }\n",
       "\n",
       "    .dataframe thead th {\n",
       "        text-align: right;\n",
       "    }\n",
       "</style>\n",
       "<table border=\"1\" class=\"dataframe\">\n",
       "  <thead>\n",
       "    <tr style=\"text-align: right;\">\n",
       "      <th></th>\n",
       "      <th>recall</th>\n",
       "    </tr>\n",
       "  </thead>\n",
       "  <tbody>\n",
       "    <tr>\n",
       "      <th>count</th>\n",
       "      <td>20.000000</td>\n",
       "    </tr>\n",
       "    <tr>\n",
       "      <th>mean</th>\n",
       "      <td>0.954579</td>\n",
       "    </tr>\n",
       "    <tr>\n",
       "      <th>std</th>\n",
       "      <td>0.019690</td>\n",
       "    </tr>\n",
       "    <tr>\n",
       "      <th>min</th>\n",
       "      <td>0.905622</td>\n",
       "    </tr>\n",
       "    <tr>\n",
       "      <th>25%</th>\n",
       "      <td>0.943747</td>\n",
       "    </tr>\n",
       "    <tr>\n",
       "      <th>50%</th>\n",
       "      <td>0.958797</td>\n",
       "    </tr>\n",
       "    <tr>\n",
       "      <th>75%</th>\n",
       "      <td>0.968895</td>\n",
       "    </tr>\n",
       "    <tr>\n",
       "      <th>max</th>\n",
       "      <td>0.977956</td>\n",
       "    </tr>\n",
       "  </tbody>\n",
       "</table>\n",
       "</div>"
      ],
      "text/plain": [
       "          recall\n",
       "count  20.000000\n",
       "mean    0.954579\n",
       "std     0.019690\n",
       "min     0.905622\n",
       "25%     0.943747\n",
       "50%     0.958797\n",
       "75%     0.968895\n",
       "max     0.977956"
      ]
     },
     "execution_count": 17,
     "metadata": {},
     "output_type": "execute_result"
    }
   ],
   "source": [
    "eval.describe()"
   ]
  },
  {
   "cell_type": "code",
   "execution_count": 18,
   "metadata": {},
   "outputs": [
    {
     "data": {
      "text/plain": [
       "(                    recall\n",
       " b'small_mammals'  0.977956,\n",
       "               recall\n",
       " b'insects'  0.905622)"
      ]
     },
     "execution_count": 18,
     "metadata": {},
     "output_type": "execute_result"
    }
   ],
   "source": [
    "find_extrema(eval)"
   ]
  },
  {
   "cell_type": "code",
   "execution_count": 19,
   "metadata": {},
   "outputs": [
    {
     "data": {
      "application/json": {
       "ascii": false,
       "bar_format": null,
       "colour": null,
       "elapsed": 0.0030319690704345703,
       "initial": 0,
       "n": 0,
       "ncols": null,
       "nrows": null,
       "postfix": null,
       "prefix": "",
       "rate": null,
       "total": 312,
       "unit": "it",
       "unit_divisor": 1000,
       "unit_scale": false
      },
      "application/vnd.jupyter.widget-view+json": {
       "model_id": "4b65e4fa0bf84f848177de5a20b31b0e",
       "version_major": 2,
       "version_minor": 0
      },
      "text/plain": [
       "  0%|          | 0/312 [00:00<?, ?it/s]"
      ]
     },
     "metadata": {},
     "output_type": "display_data"
    },
    {
     "name": "stdout",
     "output_type": "stream",
     "text": [
      "\n",
      "Performance (n=9984 test imgs, decision threshold=0.5)\n",
      "Overall accuracy: 95.45%\n",
      "\n",
      "                    recall\n",
      "b'apple'          0.970000\n",
      "b'aquarium_fish'  0.980000\n",
      "b'baby'           0.950000\n",
      "b'bear'           0.990000\n",
      "b'beaver'         0.960000\n",
      "...                    ...\n",
      "b'whale'          0.850000\n",
      "b'willow_tree'    1.000000\n",
      "b'wolf'           0.990000\n",
      "b'woman'          0.930000\n",
      "b'worm'           0.909091\n",
      "\n",
      "[100 rows x 1 columns]\n"
     ]
    }
   ],
   "source": [
    "gold, preds = test_model(model, testdata_fine)\n",
    "acc_fine, eval_fine = score_content_preds(gold, preds, class_dict)"
   ]
  },
  {
   "cell_type": "code",
   "execution_count": 20,
   "metadata": {},
   "outputs": [
    {
     "data": {
      "text/html": [
       "<div>\n",
       "<style scoped>\n",
       "    .dataframe tbody tr th:only-of-type {\n",
       "        vertical-align: middle;\n",
       "    }\n",
       "\n",
       "    .dataframe tbody tr th {\n",
       "        vertical-align: top;\n",
       "    }\n",
       "\n",
       "    .dataframe thead th {\n",
       "        text-align: right;\n",
       "    }\n",
       "</style>\n",
       "<table border=\"1\" class=\"dataframe\">\n",
       "  <thead>\n",
       "    <tr style=\"text-align: right;\">\n",
       "      <th></th>\n",
       "      <th>recall</th>\n",
       "    </tr>\n",
       "  </thead>\n",
       "  <tbody>\n",
       "    <tr>\n",
       "      <th>count</th>\n",
       "      <td>100.000000</td>\n",
       "    </tr>\n",
       "    <tr>\n",
       "      <th>mean</th>\n",
       "      <td>0.954505</td>\n",
       "    </tr>\n",
       "    <tr>\n",
       "      <th>std</th>\n",
       "      <td>0.039725</td>\n",
       "    </tr>\n",
       "    <tr>\n",
       "      <th>min</th>\n",
       "      <td>0.787879</td>\n",
       "    </tr>\n",
       "    <tr>\n",
       "      <th>25%</th>\n",
       "      <td>0.940000</td>\n",
       "    </tr>\n",
       "    <tr>\n",
       "      <th>50%</th>\n",
       "      <td>0.960000</td>\n",
       "    </tr>\n",
       "    <tr>\n",
       "      <th>75%</th>\n",
       "      <td>0.980000</td>\n",
       "    </tr>\n",
       "    <tr>\n",
       "      <th>max</th>\n",
       "      <td>1.000000</td>\n",
       "    </tr>\n",
       "  </tbody>\n",
       "</table>\n",
       "</div>"
      ],
      "text/plain": [
       "           recall\n",
       "count  100.000000\n",
       "mean     0.954505\n",
       "std      0.039725\n",
       "min      0.787879\n",
       "25%      0.940000\n",
       "50%      0.960000\n",
       "75%      0.980000\n",
       "max      1.000000"
      ]
     },
     "execution_count": 20,
     "metadata": {},
     "output_type": "execute_result"
    }
   ],
   "source": [
    "eval_fine.describe()"
   ]
  },
  {
   "cell_type": "code",
   "execution_count": 21,
   "metadata": {},
   "outputs": [
    {
     "data": {
      "text/plain": [
       "(           recall\n",
       " b'castle'     1.0,\n",
       "           recall\n",
       " b'sea'  0.787879)"
      ]
     },
     "execution_count": 21,
     "metadata": {},
     "output_type": "execute_result"
    }
   ],
   "source": [
    "find_extrema(eval_fine)"
   ]
  },
  {
   "cell_type": "code",
   "execution_count": 22,
   "metadata": {},
   "outputs": [
    {
     "data": {
      "image/png": "[encoded data removed]",
      "text/plain": [
       "<Figure size 640x480 with 1 Axes>"
      ]
     },
     "metadata": {},
     "output_type": "display_data"
    }
   ],
   "source": [
    "thresh_df_ci100 = test_thresh_size([1.0 for x in gold], preds)\n",
    "visualise(thresh_df_ci100)\n"
   ]
  },
  {
   "cell_type": "code",
   "execution_count": 23,
   "metadata": {},
   "outputs": [
    {
     "data": {
      "text/html": [
       "<div>\n",
       "<style scoped>\n",
       "    .dataframe tbody tr th:only-of-type {\n",
       "        vertical-align: middle;\n",
       "    }\n",
       "\n",
       "    .dataframe tbody tr th {\n",
       "        vertical-align: top;\n",
       "    }\n",
       "\n",
       "    .dataframe thead th {\n",
       "        text-align: right;\n",
       "    }\n",
       "</style>\n",
       "<table border=\"1\" class=\"dataframe\">\n",
       "  <thead>\n",
       "    <tr style=\"text-align: right;\">\n",
       "      <th></th>\n",
       "      <th>Accuracy</th>\n",
       "      <th>Precision</th>\n",
       "      <th>Recall</th>\n",
       "      <th>F1-Score</th>\n",
       "    </tr>\n",
       "  </thead>\n",
       "  <tbody>\n",
       "    <tr>\n",
       "      <th>0.1</th>\n",
       "      <td>99.278846</td>\n",
       "      <td>100.0</td>\n",
       "      <td>99.278846</td>\n",
       "      <td>99.638118</td>\n",
       "    </tr>\n",
       "    <tr>\n",
       "      <th>0.2</th>\n",
       "      <td>98.317308</td>\n",
       "      <td>100.0</td>\n",
       "      <td>98.317308</td>\n",
       "      <td>99.151515</td>\n",
       "    </tr>\n",
       "    <tr>\n",
       "      <th>0.3</th>\n",
       "      <td>97.345753</td>\n",
       "      <td>100.0</td>\n",
       "      <td>97.345753</td>\n",
       "      <td>98.655027</td>\n",
       "    </tr>\n",
       "    <tr>\n",
       "      <th>0.4</th>\n",
       "      <td>96.524439</td>\n",
       "      <td>100.0</td>\n",
       "      <td>96.524439</td>\n",
       "      <td>98.231487</td>\n",
       "    </tr>\n",
       "    <tr>\n",
       "      <th>0.5</th>\n",
       "      <td>95.452724</td>\n",
       "      <td>100.0</td>\n",
       "      <td>95.452724</td>\n",
       "      <td>97.673465</td>\n",
       "    </tr>\n",
       "    <tr>\n",
       "      <th>0.6</th>\n",
       "      <td>94.010417</td>\n",
       "      <td>100.0</td>\n",
       "      <td>94.010417</td>\n",
       "      <td>96.912752</td>\n",
       "    </tr>\n",
       "    <tr>\n",
       "      <th>0.7</th>\n",
       "      <td>92.077324</td>\n",
       "      <td>100.0</td>\n",
       "      <td>92.077324</td>\n",
       "      <td>95.875267</td>\n",
       "    </tr>\n",
       "    <tr>\n",
       "      <th>0.8</th>\n",
       "      <td>89.473157</td>\n",
       "      <td>100.0</td>\n",
       "      <td>89.473157</td>\n",
       "      <td>94.444151</td>\n",
       "    </tr>\n",
       "    <tr>\n",
       "      <th>0.9</th>\n",
       "      <td>83.723958</td>\n",
       "      <td>100.0</td>\n",
       "      <td>83.723958</td>\n",
       "      <td>91.141035</td>\n",
       "    </tr>\n",
       "  </tbody>\n",
       "</table>\n",
       "</div>"
      ],
      "text/plain": [
       "      Accuracy  Precision     Recall   F1-Score\n",
       "0.1  99.278846      100.0  99.278846  99.638118\n",
       "0.2  98.317308      100.0  98.317308  99.151515\n",
       "0.3  97.345753      100.0  97.345753  98.655027\n",
       "0.4  96.524439      100.0  96.524439  98.231487\n",
       "0.5  95.452724      100.0  95.452724  97.673465\n",
       "0.6  94.010417      100.0  94.010417  96.912752\n",
       "0.7  92.077324      100.0  92.077324  95.875267\n",
       "0.8  89.473157      100.0  89.473157  94.444151\n",
       "0.9  83.723958      100.0  83.723958  91.141035"
      ]
     },
     "execution_count": 23,
     "metadata": {},
     "output_type": "execute_result"
    }
   ],
   "source": [
    "thresh_df_ci100"
   ]
  },
  {
   "cell_type": "code",
   "execution_count": 24,
   "metadata": {},
   "outputs": [
    {
     "data": {
      "text/html": [
       "<div>\n",
       "<style scoped>\n",
       "    .dataframe tbody tr th:only-of-type {\n",
       "        vertical-align: middle;\n",
       "    }\n",
       "\n",
       "    .dataframe tbody tr th {\n",
       "        vertical-align: top;\n",
       "    }\n",
       "\n",
       "    .dataframe thead th {\n",
       "        text-align: right;\n",
       "    }\n",
       "</style>\n",
       "<table border=\"1\" class=\"dataframe\">\n",
       "  <thead>\n",
       "    <tr style=\"text-align: right;\">\n",
       "      <th></th>\n",
       "      <th>Accuracy</th>\n",
       "      <th>Precision</th>\n",
       "      <th>Recall</th>\n",
       "      <th>F1-Score</th>\n",
       "    </tr>\n",
       "  </thead>\n",
       "  <tbody>\n",
       "    <tr>\n",
       "      <th>count</th>\n",
       "      <td>9.000000</td>\n",
       "      <td>9.0</td>\n",
       "      <td>9.000000</td>\n",
       "      <td>9.000000</td>\n",
       "    </tr>\n",
       "    <tr>\n",
       "      <th>mean</th>\n",
       "      <td>94.022658</td>\n",
       "      <td>100.0</td>\n",
       "      <td>94.022658</td>\n",
       "      <td>96.858091</td>\n",
       "    </tr>\n",
       "    <tr>\n",
       "      <th>std</th>\n",
       "      <td>4.949295</td>\n",
       "      <td>0.0</td>\n",
       "      <td>4.949295</td>\n",
       "      <td>2.698359</td>\n",
       "    </tr>\n",
       "    <tr>\n",
       "      <th>min</th>\n",
       "      <td>83.723958</td>\n",
       "      <td>100.0</td>\n",
       "      <td>83.723958</td>\n",
       "      <td>91.141035</td>\n",
       "    </tr>\n",
       "    <tr>\n",
       "      <th>25%</th>\n",
       "      <td>92.077324</td>\n",
       "      <td>100.0</td>\n",
       "      <td>92.077324</td>\n",
       "      <td>95.875267</td>\n",
       "    </tr>\n",
       "    <tr>\n",
       "      <th>50%</th>\n",
       "      <td>95.452724</td>\n",
       "      <td>100.0</td>\n",
       "      <td>95.452724</td>\n",
       "      <td>97.673465</td>\n",
       "    </tr>\n",
       "    <tr>\n",
       "      <th>75%</th>\n",
       "      <td>97.345753</td>\n",
       "      <td>100.0</td>\n",
       "      <td>97.345753</td>\n",
       "      <td>98.655027</td>\n",
       "    </tr>\n",
       "    <tr>\n",
       "      <th>max</th>\n",
       "      <td>99.278846</td>\n",
       "      <td>100.0</td>\n",
       "      <td>99.278846</td>\n",
       "      <td>99.638118</td>\n",
       "    </tr>\n",
       "  </tbody>\n",
       "</table>\n",
       "</div>"
      ],
      "text/plain": [
       "        Accuracy  Precision     Recall   F1-Score\n",
       "count   9.000000        9.0   9.000000   9.000000\n",
       "mean   94.022658      100.0  94.022658  96.858091\n",
       "std     4.949295        0.0   4.949295   2.698359\n",
       "min    83.723958      100.0  83.723958  91.141035\n",
       "25%    92.077324      100.0  92.077324  95.875267\n",
       "50%    95.452724      100.0  95.452724  97.673465\n",
       "75%    97.345753      100.0  97.345753  98.655027\n",
       "max    99.278846      100.0  99.278846  99.638118"
      ]
     },
     "execution_count": 24,
     "metadata": {},
     "output_type": "execute_result"
    }
   ],
   "source": [
    "thresh_df_ci100.describe()"
   ]
  },
  {
   "cell_type": "markdown",
   "metadata": {},
   "source": [
    "### Comparison"
   ]
  },
  {
   "cell_type": "markdown",
   "metadata": {},
   "source": [
    "### Mini"
   ]
  },
  {
   "cell_type": "code",
   "execution_count": 25,
   "metadata": {},
   "outputs": [
    {
     "data": {
      "application/json": {
       "ascii": false,
       "bar_format": null,
       "colour": null,
       "elapsed": 0.014498710632324219,
       "initial": 0,
       "n": 0,
       "ncols": null,
       "nrows": null,
       "postfix": null,
       "prefix": "",
       "rate": null,
       "total": 312,
       "unit": "it",
       "unit_divisor": 1000,
       "unit_scale": false
      },
      "application/vnd.jupyter.widget-view+json": {
       "model_id": "3a2b9a133c204522bce4a88f78a9b5ff",
       "version_major": 2,
       "version_minor": 0
      },
      "text/plain": [
       "  0%|          | 0/312 [00:00<?, ?it/s]"
      ]
     },
     "metadata": {},
     "output_type": "display_data"
    },
    {
     "name": "stdout",
     "output_type": "stream",
     "text": [
      "\n",
      "Performance (n=9984 test imgs, decision threshold=0.5)\n",
      "Overall accuracy: 74.38%\n",
      "\n",
      "                                     recall\n",
      "b'aquatic_mammals'                 0.820000\n",
      "b'fish'                            0.753507\n",
      "b'flowers'                         0.391566\n",
      "b'food_containers'                 0.784000\n",
      "b'fruit_and_vegetables'            0.506024\n",
      "b'household_electrical_devices'    0.744000\n",
      "b'household_furniture'             0.775551\n",
      "b'insects'                         0.593186\n",
      "b'large_carnivores'                0.831663\n",
      "b'large_man-made_outdoor_things'   0.877756\n",
      "b'large_natural_outdoor_scenes'    0.909639\n",
      "b'large_omnivores_and_herbivores'  0.829659\n",
      "b'medium_mammals'                  0.788000\n",
      "b'non-insect_invertebrates'        0.714859\n",
      "b'people'                          0.720000\n",
      "b'reptiles'                        0.782000\n",
      "b'small_mammals'                   0.917836\n",
      "b'trees'                           0.838000\n",
      "b'vehicles_1'                      0.577154\n",
      "b'vehicles_2'                      0.720000\n"
     ]
    }
   ],
   "source": [
    "mini = CIFAKE_CNN()\n",
    "mini.load_state_dict(torch.load(config['mini_model']))\n",
    "\n",
    "gold_mini, preds_mini = test_model(mini, testdata)\n",
    "acc_mini, eval_mini = score_content_preds(gold_mini, preds_mini, superclass_dict)"
   ]
  },
  {
   "cell_type": "code",
   "execution_count": 26,
   "metadata": {},
   "outputs": [
    {
     "data": {
      "text/html": [
       "<div>\n",
       "<style scoped>\n",
       "    .dataframe tbody tr th:only-of-type {\n",
       "        vertical-align: middle;\n",
       "    }\n",
       "\n",
       "    .dataframe tbody tr th {\n",
       "        vertical-align: top;\n",
       "    }\n",
       "\n",
       "    .dataframe thead th {\n",
       "        text-align: right;\n",
       "    }\n",
       "</style>\n",
       "<table border=\"1\" class=\"dataframe\">\n",
       "  <thead>\n",
       "    <tr style=\"text-align: right;\">\n",
       "      <th></th>\n",
       "      <th>recall</th>\n",
       "    </tr>\n",
       "  </thead>\n",
       "  <tbody>\n",
       "    <tr>\n",
       "      <th>count</th>\n",
       "      <td>20.000000</td>\n",
       "    </tr>\n",
       "    <tr>\n",
       "      <th>mean</th>\n",
       "      <td>0.743720</td>\n",
       "    </tr>\n",
       "    <tr>\n",
       "      <th>std</th>\n",
       "      <td>0.134687</td>\n",
       "    </tr>\n",
       "    <tr>\n",
       "      <th>min</th>\n",
       "      <td>0.391566</td>\n",
       "    </tr>\n",
       "    <tr>\n",
       "      <th>25%</th>\n",
       "      <td>0.718715</td>\n",
       "    </tr>\n",
       "    <tr>\n",
       "      <th>50%</th>\n",
       "      <td>0.778776</td>\n",
       "    </tr>\n",
       "    <tr>\n",
       "      <th>75%</th>\n",
       "      <td>0.830160</td>\n",
       "    </tr>\n",
       "    <tr>\n",
       "      <th>max</th>\n",
       "      <td>0.917836</td>\n",
       "    </tr>\n",
       "  </tbody>\n",
       "</table>\n",
       "</div>"
      ],
      "text/plain": [
       "          recall\n",
       "count  20.000000\n",
       "mean    0.743720\n",
       "std     0.134687\n",
       "min     0.391566\n",
       "25%     0.718715\n",
       "50%     0.778776\n",
       "75%     0.830160\n",
       "max     0.917836"
      ]
     },
     "execution_count": 26,
     "metadata": {},
     "output_type": "execute_result"
    }
   ],
   "source": [
    "eval_mini.describe()"
   ]
  },
  {
   "cell_type": "code",
   "execution_count": 27,
   "metadata": {},
   "outputs": [
    {
     "data": {
      "text/plain": [
       "(                    recall\n",
       " b'small_mammals'  0.917836,\n",
       "               recall\n",
       " b'flowers'  0.391566)"
      ]
     },
     "execution_count": 27,
     "metadata": {},
     "output_type": "execute_result"
    }
   ],
   "source": [
    "find_extrema(eval_mini)"
   ]
  },
  {
   "cell_type": "code",
   "execution_count": 28,
   "metadata": {},
   "outputs": [
    {
     "data": {
      "application/json": {
       "ascii": false,
       "bar_format": null,
       "colour": null,
       "elapsed": 0.0037012100219726562,
       "initial": 0,
       "n": 0,
       "ncols": null,
       "nrows": null,
       "postfix": null,
       "prefix": "",
       "rate": null,
       "total": 312,
       "unit": "it",
       "unit_divisor": 1000,
       "unit_scale": false
      },
      "application/vnd.jupyter.widget-view+json": {
       "model_id": "9f7a4097f9984eac8e6199fad35f5f22",
       "version_major": 2,
       "version_minor": 0
      },
      "text/plain": [
       "  0%|          | 0/312 [00:00<?, ?it/s]"
      ]
     },
     "metadata": {},
     "output_type": "display_data"
    },
    {
     "name": "stdout",
     "output_type": "stream",
     "text": [
      "\n",
      "Performance (n=9984 test imgs, decision threshold=0.5)\n",
      "Overall accuracy: 74.38%\n",
      "\n",
      "                    recall\n",
      "b'apple'          0.710000\n",
      "b'aquarium_fish'  0.560000\n",
      "b'baby'           0.800000\n",
      "b'bear'           0.870000\n",
      "b'beaver'         0.890000\n",
      "...                    ...\n",
      "b'whale'          0.660000\n",
      "b'willow_tree'    0.910000\n",
      "b'wolf'           0.900000\n",
      "b'woman'          0.710000\n",
      "b'worm'           0.727273\n",
      "\n",
      "[100 rows x 1 columns]\n"
     ]
    }
   ],
   "source": [
    "gold_mini_fine, preds_mini_fine = test_model(mini, testdata_fine)\n",
    "acc_mini_fine, eval_mini_fine = score_content_preds(\n",
    "    gold_mini_fine, preds_mini_fine, class_dict)"
   ]
  },
  {
   "cell_type": "code",
   "execution_count": 29,
   "metadata": {},
   "outputs": [
    {
     "data": {
      "text/html": [
       "<div>\n",
       "<style scoped>\n",
       "    .dataframe tbody tr th:only-of-type {\n",
       "        vertical-align: middle;\n",
       "    }\n",
       "\n",
       "    .dataframe tbody tr th {\n",
       "        vertical-align: top;\n",
       "    }\n",
       "\n",
       "    .dataframe thead th {\n",
       "        text-align: right;\n",
       "    }\n",
       "</style>\n",
       "<table border=\"1\" class=\"dataframe\">\n",
       "  <thead>\n",
       "    <tr style=\"text-align: right;\">\n",
       "      <th></th>\n",
       "      <th>recall</th>\n",
       "    </tr>\n",
       "  </thead>\n",
       "  <tbody>\n",
       "    <tr>\n",
       "      <th>count</th>\n",
       "      <td>100.000000</td>\n",
       "    </tr>\n",
       "    <tr>\n",
       "      <th>mean</th>\n",
       "      <td>0.743643</td>\n",
       "    </tr>\n",
       "    <tr>\n",
       "      <th>std</th>\n",
       "      <td>0.176277</td>\n",
       "    </tr>\n",
       "    <tr>\n",
       "      <th>min</th>\n",
       "      <td>0.141414</td>\n",
       "    </tr>\n",
       "    <tr>\n",
       "      <th>25%</th>\n",
       "      <td>0.667500</td>\n",
       "    </tr>\n",
       "    <tr>\n",
       "      <th>50%</th>\n",
       "      <td>0.775000</td>\n",
       "    </tr>\n",
       "    <tr>\n",
       "      <th>75%</th>\n",
       "      <td>0.880000</td>\n",
       "    </tr>\n",
       "    <tr>\n",
       "      <th>max</th>\n",
       "      <td>0.990000</td>\n",
       "    </tr>\n",
       "  </tbody>\n",
       "</table>\n",
       "</div>"
      ],
      "text/plain": [
       "           recall\n",
       "count  100.000000\n",
       "mean     0.743643\n",
       "std      0.176277\n",
       "min      0.141414\n",
       "25%      0.667500\n",
       "50%      0.775000\n",
       "75%      0.880000\n",
       "max      0.990000"
      ]
     },
     "execution_count": 29,
     "metadata": {},
     "output_type": "execute_result"
    }
   ],
   "source": [
    "eval_mini_fine.describe()"
   ]
  },
  {
   "cell_type": "code",
   "execution_count": 30,
   "metadata": {},
   "outputs": [
    {
     "data": {
      "text/plain": [
       "(             recall\n",
       " b'squirrel'    0.99,\n",
       "                 recall\n",
       " b'sunflower'  0.141414)"
      ]
     },
     "execution_count": 30,
     "metadata": {},
     "output_type": "execute_result"
    }
   ],
   "source": [
    "find_extrema(eval_mini_fine)"
   ]
  },
  {
   "cell_type": "code",
   "execution_count": 31,
   "metadata": {},
   "outputs": [
    {
     "name": "stderr",
     "output_type": "stream",
     "text": [
      "/Library/Frameworks/Python.framework/Versions/3.10/lib/python3.10/site-packages/sklearn/metrics/_classification.py:1531: UndefinedMetricWarning: Precision is ill-defined and being set to 0.0 due to no predicted samples. Use `zero_division` parameter to control this behavior.\n",
      "  _warn_prf(average, modifier, f\"{metric.capitalize()} is\", len(result))\n",
      "/Library/Frameworks/Python.framework/Versions/3.10/lib/python3.10/site-packages/sklearn/metrics/_classification.py:1531: UndefinedMetricWarning: Precision is ill-defined and being set to 0.0 due to no predicted samples. Use `zero_division` parameter to control this behavior.\n",
      "  _warn_prf(average, modifier, f\"{metric.capitalize()} is\", len(result))\n",
      "/Library/Frameworks/Python.framework/Versions/3.10/lib/python3.10/site-packages/sklearn/metrics/_classification.py:1531: UndefinedMetricWarning: Precision is ill-defined and being set to 0.0 due to no predicted samples. Use `zero_division` parameter to control this behavior.\n",
      "  _warn_prf(average, modifier, f\"{metric.capitalize()} is\", len(result))\n",
      "/Library/Frameworks/Python.framework/Versions/3.10/lib/python3.10/site-packages/sklearn/metrics/_classification.py:1531: UndefinedMetricWarning: Precision is ill-defined and being set to 0.0 due to no predicted samples. Use `zero_division` parameter to control this behavior.\n",
      "  _warn_prf(average, modifier, f\"{metric.capitalize()} is\", len(result))\n"
     ]
    },
    {
     "data": {
      "image/png": "[encoded data removed]",
      "text/plain": [
       "<Figure size 640x480 with 1 Axes>"
      ]
     },
     "metadata": {},
     "output_type": "display_data"
    }
   ],
   "source": [
    "thresh_df_ci100_mini = test_thresh_size([1.0 for x in gold_mini], preds_mini)\n",
    "visualise(thresh_df_ci100_mini)\n"
   ]
  },
  {
   "cell_type": "markdown",
   "metadata": {},
   "source": [
    "### Attention model"
   ]
  },
  {
   "cell_type": "code",
   "execution_count": 32,
   "metadata": {},
   "outputs": [
    {
     "data": {
      "application/json": {
       "ascii": false,
       "bar_format": null,
       "colour": null,
       "elapsed": 0.004834175109863281,
       "initial": 0,
       "n": 0,
       "ncols": null,
       "nrows": null,
       "postfix": null,
       "prefix": "",
       "rate": null,
       "total": 312,
       "unit": "it",
       "unit_divisor": 1000,
       "unit_scale": false
      },
      "application/vnd.jupyter.widget-view+json": {
       "model_id": "140cf331b5b04cf7996d14ff04cad104",
       "version_major": 2,
       "version_minor": 0
      },
      "text/plain": [
       "  0%|          | 0/312 [00:00<?, ?it/s]"
      ]
     },
     "metadata": {},
     "output_type": "display_data"
    },
    {
     "name": "stdout",
     "output_type": "stream",
     "text": [
      "\n",
      "Performance (n=9984 test imgs, decision threshold=0.5)\n",
      "Overall accuracy: 81.67%\n",
      "\n",
      "                                     recall\n",
      "b'aquatic_mammals'                 0.894000\n",
      "b'fish'                            0.915832\n",
      "b'flowers'                         0.704819\n",
      "b'food_containers'                 0.782000\n",
      "b'fruit_and_vegetables'            0.811245\n",
      "b'household_electrical_devices'    0.742000\n",
      "b'household_furniture'             0.849699\n",
      "b'insects'                         0.701403\n",
      "b'large_carnivores'                0.831663\n",
      "b'large_man-made_outdoor_things'   0.865731\n",
      "b'large_natural_outdoor_scenes'    0.875502\n",
      "b'large_omnivores_and_herbivores'  0.845691\n",
      "b'medium_mammals'                  0.840000\n",
      "b'non-insect_invertebrates'        0.833333\n",
      "b'people'                          0.736000\n",
      "b'reptiles'                        0.806000\n",
      "b'small_mammals'                   0.905812\n",
      "b'trees'                           0.872000\n",
      "b'vehicles_1'                      0.709419\n",
      "b'vehicles_2'                      0.812000\n"
     ]
    }
   ],
   "source": [
    "attn = CIFAKE_CNN(attn=True)\n",
    "attn.load_state_dict(torch.load(config['attn_model']))\n",
    "\n",
    "gold_attn, preds_attn = test_model(attn, testdata)\n",
    "acc_attn, eval_attn = score_content_preds(gold_attn, preds_attn, superclass_dict)"
   ]
  },
  {
   "cell_type": "code",
   "execution_count": 33,
   "metadata": {},
   "outputs": [
    {
     "data": {
      "text/html": [
       "<div>\n",
       "<style scoped>\n",
       "    .dataframe tbody tr th:only-of-type {\n",
       "        vertical-align: middle;\n",
       "    }\n",
       "\n",
       "    .dataframe tbody tr th {\n",
       "        vertical-align: top;\n",
       "    }\n",
       "\n",
       "    .dataframe thead th {\n",
       "        text-align: right;\n",
       "    }\n",
       "</style>\n",
       "<table border=\"1\" class=\"dataframe\">\n",
       "  <thead>\n",
       "    <tr style=\"text-align: right;\">\n",
       "      <th></th>\n",
       "      <th>recall</th>\n",
       "    </tr>\n",
       "  </thead>\n",
       "  <tbody>\n",
       "    <tr>\n",
       "      <th>count</th>\n",
       "      <td>20.000000</td>\n",
       "    </tr>\n",
       "    <tr>\n",
       "      <th>mean</th>\n",
       "      <td>0.816708</td>\n",
       "    </tr>\n",
       "    <tr>\n",
       "      <th>std</th>\n",
       "      <td>0.067442</td>\n",
       "    </tr>\n",
       "    <tr>\n",
       "      <th>min</th>\n",
       "      <td>0.701403</td>\n",
       "    </tr>\n",
       "    <tr>\n",
       "      <th>25%</th>\n",
       "      <td>0.772000</td>\n",
       "    </tr>\n",
       "    <tr>\n",
       "      <th>50%</th>\n",
       "      <td>0.832498</td>\n",
       "    </tr>\n",
       "    <tr>\n",
       "      <th>75%</th>\n",
       "      <td>0.867299</td>\n",
       "    </tr>\n",
       "    <tr>\n",
       "      <th>max</th>\n",
       "      <td>0.915832</td>\n",
       "    </tr>\n",
       "  </tbody>\n",
       "</table>\n",
       "</div>"
      ],
      "text/plain": [
       "          recall\n",
       "count  20.000000\n",
       "mean    0.816708\n",
       "std     0.067442\n",
       "min     0.701403\n",
       "25%     0.772000\n",
       "50%     0.832498\n",
       "75%     0.867299\n",
       "max     0.915832"
      ]
     },
     "execution_count": 33,
     "metadata": {},
     "output_type": "execute_result"
    }
   ],
   "source": [
    "eval_attn.describe()"
   ]
  },
  {
   "cell_type": "code",
   "execution_count": 34,
   "metadata": {},
   "outputs": [
    {
     "data": {
      "text/plain": [
       "(           recall\n",
       " b'fish'  0.915832,\n",
       "               recall\n",
       " b'insects'  0.701403)"
      ]
     },
     "execution_count": 34,
     "metadata": {},
     "output_type": "execute_result"
    }
   ],
   "source": [
    "find_extrema(eval_attn)"
   ]
  },
  {
   "cell_type": "code",
   "execution_count": 35,
   "metadata": {},
   "outputs": [
    {
     "data": {
      "application/json": {
       "ascii": false,
       "bar_format": null,
       "colour": null,
       "elapsed": 0.003499746322631836,
       "initial": 0,
       "n": 0,
       "ncols": null,
       "nrows": null,
       "postfix": null,
       "prefix": "",
       "rate": null,
       "total": 312,
       "unit": "it",
       "unit_divisor": 1000,
       "unit_scale": false
      },
      "application/vnd.jupyter.widget-view+json": {
       "model_id": "a45280bd769b4a62ae810d34bc69e227",
       "version_major": 2,
       "version_minor": 0
      },
      "text/plain": [
       "  0%|          | 0/312 [00:00<?, ?it/s]"
      ]
     },
     "metadata": {},
     "output_type": "display_data"
    },
    {
     "name": "stdout",
     "output_type": "stream",
     "text": [
      "\n",
      "Performance (n=9984 test imgs, decision threshold=0.5)\n",
      "Overall accuracy: 81.67%\n",
      "\n",
      "                    recall\n",
      "b'apple'          0.890000\n",
      "b'aquarium_fish'  0.900000\n",
      "b'baby'           0.770000\n",
      "b'bear'           0.910000\n",
      "b'beaver'         0.900000\n",
      "...                    ...\n",
      "b'whale'          0.740000\n",
      "b'willow_tree'    0.970000\n",
      "b'wolf'           0.910000\n",
      "b'woman'          0.680000\n",
      "b'worm'           0.858586\n",
      "\n",
      "[100 rows x 1 columns]\n"
     ]
    }
   ],
   "source": [
    "gold_attn_fine, preds_attn_fine = test_model(attn, testdata_fine)\n",
    "acc_attn_fine, eval_attn_fine = score_content_preds(\n",
    "    gold_attn_fine, preds_attn_fine, class_dict)"
   ]
  },
  {
   "cell_type": "code",
   "execution_count": 36,
   "metadata": {},
   "outputs": [
    {
     "data": {
      "text/html": [
       "<div>\n",
       "<style scoped>\n",
       "    .dataframe tbody tr th:only-of-type {\n",
       "        vertical-align: middle;\n",
       "    }\n",
       "\n",
       "    .dataframe tbody tr th {\n",
       "        vertical-align: top;\n",
       "    }\n",
       "\n",
       "    .dataframe thead th {\n",
       "        text-align: right;\n",
       "    }\n",
       "</style>\n",
       "<table border=\"1\" class=\"dataframe\">\n",
       "  <thead>\n",
       "    <tr style=\"text-align: right;\">\n",
       "      <th></th>\n",
       "      <th>recall</th>\n",
       "    </tr>\n",
       "  </thead>\n",
       "  <tbody>\n",
       "    <tr>\n",
       "      <th>count</th>\n",
       "      <td>100.000000</td>\n",
       "    </tr>\n",
       "    <tr>\n",
       "      <th>mean</th>\n",
       "      <td>0.816678</td>\n",
       "    </tr>\n",
       "    <tr>\n",
       "      <th>std</th>\n",
       "      <td>0.096160</td>\n",
       "    </tr>\n",
       "    <tr>\n",
       "      <th>min</th>\n",
       "      <td>0.555556</td>\n",
       "    </tr>\n",
       "    <tr>\n",
       "      <th>25%</th>\n",
       "      <td>0.757500</td>\n",
       "    </tr>\n",
       "    <tr>\n",
       "      <th>50%</th>\n",
       "      <td>0.834192</td>\n",
       "    </tr>\n",
       "    <tr>\n",
       "      <th>75%</th>\n",
       "      <td>0.898990</td>\n",
       "    </tr>\n",
       "    <tr>\n",
       "      <th>max</th>\n",
       "      <td>0.970000</td>\n",
       "    </tr>\n",
       "  </tbody>\n",
       "</table>\n",
       "</div>"
      ],
      "text/plain": [
       "           recall\n",
       "count  100.000000\n",
       "mean     0.816678\n",
       "std      0.096160\n",
       "min      0.555556\n",
       "25%      0.757500\n",
       "50%      0.834192\n",
       "75%      0.898990\n",
       "max      0.970000"
      ]
     },
     "execution_count": 36,
     "metadata": {},
     "output_type": "execute_result"
    }
   ],
   "source": [
    "eval_attn_fine.describe()"
   ]
  },
  {
   "cell_type": "code",
   "execution_count": 37,
   "metadata": {},
   "outputs": [
    {
     "data": {
      "text/plain": [
       "(        recall\n",
       " b'ray'    0.97,\n",
       "                 recall\n",
       " b'butterfly'  0.555556)"
      ]
     },
     "execution_count": 37,
     "metadata": {},
     "output_type": "execute_result"
    }
   ],
   "source": [
    "find_extrema(eval_attn_fine)"
   ]
  },
  {
   "cell_type": "code",
   "execution_count": 38,
   "metadata": {},
   "outputs": [
    {
     "data": {
      "image/png": "[encoded data removed]",
      "text/plain": [
       "<Figure size 640x480 with 1 Axes>"
      ]
     },
     "metadata": {},
     "output_type": "display_data"
    }
   ],
   "source": [
    "thresh_df_ci100_attn = test_thresh_size([1.0 for x in gold_attn], preds_attn)\n",
    "visualise(thresh_df_ci100_attn)"
   ]
  },
  {
   "cell_type": "code",
   "execution_count": null,
   "metadata": {},
   "outputs": [],
   "source": []
  }
 ],
 "metadata": {
  "kernelspec": {
   "display_name": "Python 3",
   "language": "python",
   "name": "python3"
  },
  "language_info": {
   "codemirror_mode": {
    "name": "ipython",
    "version": 3
   },
   "file_extension": ".py",
   "mimetype": "text/x-python",
   "name": "python",
   "nbconvert_exporter": "python",
   "pygments_lexer": "ipython3",
   "version": "3.10.0"
  }
 },
 "nbformat": 4,
 "nbformat_minor": 2
}
